{
  "nbformat": 4,
  "nbformat_minor": 0,
  "metadata": {
    "colab": {
      "provenance": [],
      "authorship_tag": "ABX9TyNXt/wU/knuaUID2LdAQzpX",
      "include_colab_link": true
    },
    "kernelspec": {
      "name": "python3",
      "display_name": "Python 3"
    },
    "language_info": {
      "name": "python"
    }
  },
  "cells": [
    {
      "cell_type": "markdown",
      "metadata": {
        "id": "view-in-github",
        "colab_type": "text"
      },
      "source": [
        "<a href=\"https://colab.research.google.com/github/rainbowcity05/tibame0410/blob/main/tibame0428.ipynb\" target=\"_parent\"><img src=\"https://colab.research.google.com/assets/colab-badge.svg\" alt=\"Open In Colab\"/></a>"
      ]
    },
    {
      "cell_type": "code",
      "execution_count": 3,
      "metadata": {
        "id": "vCc_kqYs9rDu"
      },
      "outputs": [],
      "source": [
        "from bs4 import BeautifulSoup\n",
        "#from...import: 比普通import可以更深入一層，直接import功能名字\n",
        "url = \"https://www.ptt.cc/bbs/Beauty/M.1745763958.A.745.html\""
      ]
    },
    {
      "cell_type": "code",
      "source": [
        "#內建urllib\n",
        "import bs4 as bs\n",
        "import urllib.request as req\n",
        "url = \"https://www.ptt.cc/bbs/Beauty/M.1745763958.A.745.html\"\n",
        "r = req.Request(url)\n",
        "r.add_header(\"user-agent\", \"Mozilla/5.0 (Windows NT 10.0; Win64; x64) AppleWebKit/537.36 (KHTML, like Gecko) Chrome/135.0.0.0 Safari/537.36\")\n",
        "resp = req.urlopen(r)\n",
        "content = resp.read()\n",
        "bs.BeautifulSoup(content)\n"
      ],
      "metadata": {
        "id": "qQPdeezqAZnd"
      },
      "execution_count": null,
      "outputs": []
    },
    {
      "cell_type": "code",
      "source": [
        "#第三方requests\n",
        "import requests\n",
        "import bs4 as bs\n",
        "h = {\n",
        "    \"user-agent\": \"Mozilla/5.0 (Windows NT 10.0; Win64; x64) AppleWebKit/537.36 (KHTML, like Gecko) Chrome/135.0.0.0 Safari/537.36\"\n",
        "}\n",
        "url = \"https://www.ptt.cc/bbs/Beauty/M.1745763958.A.745.html\"\n",
        "\n",
        "#open>get\n",
        "resp = requests.get(url, headers = h)\n",
        "#read\n",
        "content = resp.text\n",
        "bs.BeautifulSoup(content)\n",
        "#resp.request.headers\n",
        "#resp.headers\n"
      ],
      "metadata": {
        "id": "HUk079NgBSMx"
      },
      "execution_count": null,
      "outputs": []
    },
    {
      "cell_type": "code",
      "source": [
        "#如果不用加header，首選當然urllib.request裡的urlretrieve\n",
        "import urllib.request as req\n",
        "url = \"https://i.imgur.com/zhH36l6.jpeg\" #網址要帶i\n",
        "r = req.Request(url)\n",
        "r.add_header(\"user-agent\", \"Mozilla/5.0 (Windows NT 10.0; Win64; x64) AppleWebKit/537.36 (KHTML, like Gecko) Chrome/135.0.0.0 Safari/537.36\")\n",
        "resp = req.urlopen(r)\n",
        "\n",
        "with open(\"a.jpeg\",\"wb\") as f:\n",
        "  f.write(resp.read())\n"
      ],
      "metadata": {
        "id": "iXo4XXN1DutE"
      },
      "execution_count": 11,
      "outputs": []
    },
    {
      "cell_type": "code",
      "source": [
        "import requests\n",
        "h = {\n",
        "    \"user-agent\": \"Mozilla/5.0 (Windows NT 10.0; Win64; x64) AppleWebKit/537.36 (KHTML, like Gecko) Chrome/135.0.0.0 Safari/537.36\"\n",
        "}\n",
        "#!!!如果你確認開的網址是非純文字，要記得加(stream=True)\n",
        "#如果給出stream = Trur,就不會幫你讀到.text，會幫你維持.raw維持一個檔案的樣子\n",
        "resp = requests.get(url,headers=h,stream=True)\n",
        "content = resp.raw.read()\n",
        "with open(\"b.jpeg\",\"wb\") as f:\n",
        "  f.write(content)\n"
      ],
      "metadata": {
        "id": "cWeDZAhAFE44"
      },
      "execution_count": 12,
      "outputs": []
    }
  ]
}