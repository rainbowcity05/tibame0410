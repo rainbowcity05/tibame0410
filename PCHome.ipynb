{
  "nbformat": 4,
  "nbformat_minor": 0,
  "metadata": {
    "colab": {
      "provenance": [],
      "authorship_tag": "ABX9TyMcOY0jaChVps9PzyxZefu6",
      "include_colab_link": true
    },
    "kernelspec": {
      "name": "python3",
      "display_name": "Python 3"
    },
    "language_info": {
      "name": "python"
    }
  },
  "cells": [
    {
      "cell_type": "markdown",
      "metadata": {
        "id": "view-in-github",
        "colab_type": "text"
      },
      "source": [
        "<a href=\"https://colab.research.google.com/github/rainbowcity05/tibame0410/blob/main/PCHome.ipynb\" target=\"_parent\"><img src=\"https://colab.research.google.com/assets/colab-badge.svg\" alt=\"Open In Colab\"/></a>"
      ]
    },
    {
      "cell_type": "code",
      "execution_count": 69,
      "metadata": {
        "colab": {
          "base_uri": "https://localhost:8080/",
          "height": 211
        },
        "id": "Agd8yDgyUdku",
        "outputId": "7f5ecc8f-9600-48e3-8817-e39f2bb5f546"
      },
      "outputs": [
        {
          "output_type": "error",
          "ename": "AttributeError",
          "evalue": "'NoneType' object has no attribute 'text'",
          "traceback": [
            "\u001b[0;31m---------------------------------------------------------------------------\u001b[0m",
            "\u001b[0;31mAttributeError\u001b[0m                            Traceback (most recent call last)",
            "\u001b[0;32m<ipython-input-69-5e7a7330878a>\u001b[0m in \u001b[0;36m<cell line: 0>\u001b[0;34m()\u001b[0m\n\u001b[1;32m     11\u001b[0m     \u001b[0mp_brand\u001b[0m \u001b[0;34m=\u001b[0m \u001b[0mp_html\u001b[0m\u001b[0;34m.\u001b[0m\u001b[0mfind\u001b[0m\u001b[0;34m(\u001b[0m\u001b[0;34m\"span\"\u001b[0m\u001b[0;34m,\u001b[0m \u001b[0;34m{\u001b[0m\u001b[0;34m\"class\"\u001b[0m\u001b[0;34m:\u001b[0m\u001b[0;34m\"o-prodMainName__colorSecondary\"\u001b[0m\u001b[0;34m}\u001b[0m\u001b[0;34m)\u001b[0m\u001b[0;34m.\u001b[0m\u001b[0mtext\u001b[0m\u001b[0;34m\u001b[0m\u001b[0;34m\u001b[0m\u001b[0m\n\u001b[1;32m     12\u001b[0m     \u001b[0mp_name\u001b[0m \u001b[0;34m=\u001b[0m \u001b[0mp_html\u001b[0m\u001b[0;34m.\u001b[0m\u001b[0mfind\u001b[0m\u001b[0;34m(\u001b[0m\u001b[0;34m\"h1\"\u001b[0m\u001b[0;34m,\u001b[0m \u001b[0;34m{\u001b[0m\u001b[0;34m\"class\"\u001b[0m\u001b[0;34m:\u001b[0m\u001b[0;34m\"o-prodMainName__grayDarkest\"\u001b[0m\u001b[0;34m}\u001b[0m\u001b[0;34m)\u001b[0m\u001b[0;34m.\u001b[0m\u001b[0mtext\u001b[0m\u001b[0;34m\u001b[0m\u001b[0;34m\u001b[0m\u001b[0m\n\u001b[0;32m---> 13\u001b[0;31m     \u001b[0mp_rating\u001b[0m \u001b[0;34m=\u001b[0m \u001b[0mp_html\u001b[0m\u001b[0;34m.\u001b[0m\u001b[0mfind\u001b[0m\u001b[0;34m(\u001b[0m\u001b[0;34m\"div\"\u001b[0m\u001b[0;34m,\u001b[0m \u001b[0;34m{\u001b[0m\u001b[0;34m\"class\"\u001b[0m\u001b[0;34m:\u001b[0m\u001b[0;34m\"c-ratingIcon__textNumber c-ratingIcon__textNumber--m700GrayDarkest\"\u001b[0m\u001b[0;34m}\u001b[0m\u001b[0;34m)\u001b[0m\u001b[0;34m.\u001b[0m\u001b[0mtext\u001b[0m\u001b[0;34m\u001b[0m\u001b[0;34m\u001b[0m\u001b[0m\n\u001b[0m\u001b[1;32m     14\u001b[0m     \u001b[0mp_intro\u001b[0m \u001b[0;34m=\u001b[0m \u001b[0mp_html\u001b[0m\u001b[0;34m.\u001b[0m\u001b[0mfind\u001b[0m\u001b[0;34m(\u001b[0m\u001b[0;34m\"div\"\u001b[0m\u001b[0;34m,\u001b[0m \u001b[0;34m{\u001b[0m\u001b[0;34m\"class\"\u001b[0m\u001b[0;34m:\u001b[0m\u001b[0;34m\"c-blockCombine c-blockCombine--prodSlogan\"\u001b[0m\u001b[0;34m}\u001b[0m\u001b[0;34m)\u001b[0m\u001b[0;34m.\u001b[0m\u001b[0mtext\u001b[0m\u001b[0;34m\u001b[0m\u001b[0;34m\u001b[0m\u001b[0m\n\u001b[1;32m     15\u001b[0m     \u001b[0mp_discount_price\u001b[0m \u001b[0;34m=\u001b[0m \u001b[0mp_html\u001b[0m\u001b[0;34m.\u001b[0m\u001b[0mfind\u001b[0m\u001b[0;34m(\u001b[0m\u001b[0;34m\"div\"\u001b[0m\u001b[0;34m,\u001b[0m \u001b[0;34m{\u001b[0m\u001b[0;34m\"class\"\u001b[0m\u001b[0;34m:\u001b[0m\u001b[0;34m\"o-prodPrice__price\"\u001b[0m\u001b[0;34m}\u001b[0m\u001b[0;34m)\u001b[0m\u001b[0;34m.\u001b[0m\u001b[0mtext\u001b[0m\u001b[0;34m\u001b[0m\u001b[0;34m\u001b[0m\u001b[0m\n",
            "\u001b[0;31mAttributeError\u001b[0m: 'NoneType' object has no attribute 'text'"
          ]
        }
      ],
      "source": [
        "\n",
        "import urllib.request as req\n",
        "import bs4 as bs\n",
        "url = \"https://24h.pchome.com.tw/search/?q=%E5%90%B9%E9%A2%A8%E6%A9%9F\"\n",
        "resp = req.urlopen(url)\n",
        "html = bs.BeautifulSoup(resp.read())\n",
        "links = html.find_all(\"a\", {\"class\":\"c-prodInfoV2__link\"})\n",
        "for link in links:\n",
        "    link_href = \"https://24h.pchome.com.tw\" + link[\"href\"]\n",
        "    p_resp = req.urlopen(link_href)\n",
        "    p_html = bs.BeautifulSoup(p_resp.read())\n",
        "    p_brand = p_html.find(\"span\", {\"class\":\"o-prodMainName__colorSecondary\"}).text\n",
        "    p_name = p_html.find(\"h1\", {\"class\":\"o-prodMainName__grayDarkest\"}).text\n",
        "    p_rating = p_html.find(\"div\", {\"class\":\"c-ratingIcon__textNumber c-ratingIcon__textNumber--m700GrayDarkest\"}).text\n",
        "    p_intro = p_html.find(\"div\", {\"class\":\"c-blockCombine c-blockCombine--prodSlogan\"}).text\n",
        "    p_discount_price = p_html.find(\"div\", {\"class\":\"o-prodPrice__price\"}).text\n",
        "    p_original_price = p_html.find(\"div\", {\"class\":\"o-prodPrice__originalPrice\"}).text\n",
        "    p_img = p_html.find(\"div\", {\"class\":\"c-radiusPhotoImage__img\"})\n",
        "\n",
        "    # 滿額贈\n",
        "    p_labels = p_html.find_all(\"div\", {\"class\":\"c-label__rectangle\"})\n",
        "    p_full_prize = \"N\"\n",
        "    for p_label in p_labels:\n",
        "        if \"滿額贈\" in p_label.text:\n",
        "            p_full_prize = \"Y\"\n",
        "            break\n",
        "\n",
        "    # print(p_brand)\n",
        "    # print(p_name)\n",
        "    # print(p_rating)\n",
        "    # print(p_intro)\n",
        "    # print(p_discount_price)\n",
        "    # print(p_original_price)\n",
        "    print(p_img)\n",
        "    # print(p_full_prize)\n",
        "\n",
        "    break\n"
      ]
    }
  ]
}