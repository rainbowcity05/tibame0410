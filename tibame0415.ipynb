{
  "nbformat": 4,
  "nbformat_minor": 0,
  "metadata": {
    "colab": {
      "provenance": [],
      "authorship_tag": "ABX9TyNezXwbdsAtKUKOuakC71Fl",
      "include_colab_link": true
    },
    "kernelspec": {
      "name": "python3",
      "display_name": "Python 3"
    },
    "language_info": {
      "name": "python"
    }
  },
  "cells": [
    {
      "cell_type": "markdown",
      "metadata": {
        "id": "view-in-github",
        "colab_type": "text"
      },
      "source": [
        "<a href=\"https://colab.research.google.com/github/rainbowcity05/tibame0410/blob/main/tibame0415.ipynb\" target=\"_parent\"><img src=\"https://colab.research.google.com/assets/colab-badge.svg\" alt=\"Open In Colab\"/></a>"
      ]
    },
    {
      "cell_type": "code",
      "execution_count": 13,
      "metadata": {
        "id": "1cZb380FBMt8",
        "colab": {
          "base_uri": "https://localhost:8080/"
        },
        "outputId": "3dcc6046-e9cc-4db1-fbda-6d3063852ec0"
      },
      "outputs": [
        {
          "output_type": "stream",
          "name": "stdout",
          "text": [
            "贏:)\n",
            "平手\n",
            "平手\n",
            "平手\n",
            "贏:)\n",
            "贏:)\n",
            "我贏了\n"
          ]
        }
      ],
      "source": [
        "#不是用次數決定的迴圈，while後面就比較自由\n",
        "#新型態: 1.布林型態 - True / False | 2.組合 - and(而且) / or(或者)\n",
        "\n",
        "\n",
        "import random\n",
        "\n",
        "win,even,lose = 0, 0, 0\n",
        "trans = [\"輸:(\", \"平手\", \"贏:)\"]\n",
        "\n",
        "#我還沒贏3把而且對手還沒贏3把，就繼續玩\n",
        "\n",
        "while True:\n",
        "  result = random.randint(-1,1)\n",
        "  print(trans[result+1])\n",
        "  if result == -1:\n",
        "    lose = lose + 1\n",
        "  elif result == 0:\n",
        "    even = even + 1\n",
        "  elif result == 1:\n",
        "    win = win + 1\n",
        "  if win == 3:\n",
        "    print(\"我贏了\")\n",
        "    break\n",
        "  elif lose == 3:\n",
        "    print(\"我輸了\")\n",
        "    break\n",
        "\n",
        "\n",
        "\n"
      ]
    },
    {
      "cell_type": "code",
      "source": [
        "import random\n",
        "\n",
        "win,even,lose = 0, 0, 0\n",
        "trans = [\"輸:(\", \"平手\", \"贏:)\"]\n",
        "\n",
        "#我還沒贏3把而且對手還沒贏3把，就繼續玩\n",
        "\n",
        "while True:\n",
        "  result = random.randint(-1,1)\n",
        "  print(trans[result+1])\n",
        "  if result == -1:\n",
        "    lose = lose + 1\n",
        "  elif result == 0:\n",
        "    even = even + 1\n",
        "  elif result == 1:\n",
        "    win = win + 1\n",
        "  # if win == 3 or lose == 3: #不能寫成 win or lose == 3\n",
        "  #   print(\"Gave Over\")\n",
        "  #   break\n",
        "\n",
        "#若要印出比賽結果\n",
        "  if win == 3:\n",
        "    print(\"我贏了!\")\n",
        "    break\n",
        "  elif lose == 3:\n",
        "    print(\"我輸了\")\n",
        "    break"
      ],
      "metadata": {
        "colab": {
          "base_uri": "https://localhost:8080/"
        },
        "id": "kzZtII8NKHwU",
        "outputId": "fac86a4a-f5d5-4e64-986e-3bedc4cebf27"
      },
      "execution_count": 17,
      "outputs": [
        {
          "output_type": "stream",
          "name": "stdout",
          "text": [
            "平手\n",
            "平手\n",
            "贏:)\n",
            "平手\n",
            "贏:)\n",
            "贏:)\n",
            "我贏了!\n"
          ]
        }
      ]
    },
    {
      "cell_type": "code",
      "source": [
        "a = 5\n",
        "b = 3\n",
        "print(f\"先印{a} 再印出{b}\")\n"
      ],
      "metadata": {
        "colab": {
          "base_uri": "https://localhost:8080/"
        },
        "id": "WLY6Wu5UDxZf",
        "outputId": "3f74beaf-aa0e-43d1-c15e-a4963299ec75"
      },
      "execution_count": 1,
      "outputs": [
        {
          "output_type": "stream",
          "name": "stdout",
          "text": [
            "先印5 再印出3\n"
          ]
        }
      ]
    },
    {
      "cell_type": "code",
      "source": [
        "p, f, c, = 0, 0, 0\n",
        "\n",
        "while True:\n",
        "  choice = input(\"0.Protein 1.fat 2.carbon 3.一碗飯 q.結束今天統計\")\n",
        "\n",
        "  #如果選的是0到2:那你要輸入幾克\n",
        "  if choice in [\"0\",\"1\",\"2\"]:\n",
        "    gram = int(input(\"幾克?\"))\n",
        "\n",
        "  #calorie = p * 4 + f * 9 + c * 4\n",
        "    if choice == \"0\":\n",
        "      p = p + gram\n",
        "    elif choice == \"1\":\n",
        "      f = f + gram\n",
        "    elif choice == \"2\":\n",
        "      c = c + gram\n",
        "\n",
        "  #如果選的是3:p+0,f+0,c+65\n",
        "  elif choice == \"3\":\n",
        "    c = c + 65\n",
        "\n",
        "  #如果選的是+:你要印出今天吃了多少熱量，然後把pfc重置為0\n",
        "  elif choice == \"+\":\n",
        "    calorie = p * 4 + f * 9 + c * 4\n",
        "    print(\"你今天吃了\",calorie,\"卡路里\")\n",
        "    p, f, c, = 0, 0, 0\n",
        "\n",
        "  elif choice == \"q\":\n",
        "    print(\"結束\")\n",
        "    break"
      ],
      "metadata": {
        "colab": {
          "base_uri": "https://localhost:8080/"
        },
        "id": "awOP2drKOBa_",
        "outputId": "ef57325f-6c04-4013-f93d-aa6f6e15204e"
      },
      "execution_count": 32,
      "outputs": [
        {
          "output_type": "stream",
          "name": "stdout",
          "text": [
            "0.Protein 1.fat 2.carbon 3.一碗飯 q.結束今天統計2\n",
            "幾克?20\n",
            "0.Protein 1.fat 2.carbon 3.一碗飯 q.結束今天統計4\n",
            "0.Protein 1.fat 2.carbon 3.一碗飯 q.結束今天統計10\n",
            "0.Protein 1.fat 2.carbon 3.一碗飯 q.結束今天統計3\n",
            "0.Protein 1.fat 2.carbon 3.一碗飯 q.結束今天統計+\n",
            "你今天吃了 340 卡路里\n",
            "0.Protein 1.fat 2.carbon 3.一碗飯 q.結束今天統計q\n",
            "結束\n"
          ]
        }
      ]
    },
    {
      "cell_type": "code",
      "source": [
        "nutritions = {\n",
        "    \"p\": 0,\n",
        "    \"f\": 0,\n",
        "    \"c\": 0\n",
        "}\n",
        "\n",
        "while True:\n",
        "    choice = input(\"p.protein f.fat c.carbon 3.一碗飯 +.今天統計 q.離開迴圈\")\n",
        "    # 如果他選的0-2: 那你要輸入幾克\n",
        "    # if (choice == \"0\") or (choice == \"1\") or (choice == \"2\"):\n",
        "    if choice in [\"p\", \"f\", \"c\"]:\n",
        "        gram = int(input(\"幾克:\"))\n",
        "        nutritions[choice] = nutritions[choice] + gram\n",
        "        print(\"p f c\", nutritions[\"p\"], nutritions[\"f\"], nutritions[\"c\"])\n",
        "    elif choice == \"3\":\n",
        "        nutritions[\"c\"] = nutritions[\"c\"] + 65\n",
        "    elif choice == \"+\":\n",
        "        calorie = nutritions[\"p\"] * 4 + nutritions[\"f\"] * 9 + nutritions[\"c\"] * 4\n",
        "        print(\"今天吃了\", nutritions[\"p\"], \"蛋白質\",\n",
        "                  nutritions[\"f\"], \"脂肪\",\n",
        "                  nutritions[\"c\"], \"碳水化合物\")\n",
        "        print(\"熱量為\", calorie)\n",
        "        nutritions = {\n",
        "            \"p\": 0,\n",
        "            \"f\": 0,\n",
        "            \"c\": 0\n",
        "        }\n",
        "    elif choice == \"q\":\n",
        "        break\n",
        "    # 如果他選的是3 p+0 f+0 c+65\n",
        "    # 如果你選的是+: 你要印出今天吃了多少熱量, 然後把pfc重製成0"
      ],
      "metadata": {
        "colab": {
          "base_uri": "https://localhost:8080/"
        },
        "id": "uL0STIGOO-Aj",
        "outputId": "9ac5d36e-c3a7-4e05-8abd-15244b3b0e1e"
      },
      "execution_count": null,
      "outputs": [
        {
          "output_type": "stream",
          "name": "stdout",
          "text": [
            "p.protein f.fat c.carbon 3.一碗飯 +.今天統計 q.離開迴圈2\n",
            "p.protein f.fat c.carbon 3.一碗飯 +.今天統計 q.離開迴圈p\n",
            "幾克:2\n",
            "p f c 2 0 0\n"
          ]
        }
      ]
    },
    {
      "cell_type": "code",
      "source": [
        "\n"
      ],
      "metadata": {
        "colab": {
          "base_uri": "https://localhost:8080/",
          "height": 193
        },
        "id": "8M3KGwhyZuNZ",
        "outputId": "da76c401-f34a-4637-d2ac-aa9c63283b3c"
      },
      "execution_count": 36,
      "outputs": [
        {
          "output_type": "error",
          "ename": "KeyError",
          "evalue": "1",
          "traceback": [
            "\u001b[0;31m---------------------------------------------------------------------------\u001b[0m",
            "\u001b[0;31mKeyError\u001b[0m                                  Traceback (most recent call last)",
            "\u001b[0;32m<ipython-input-36-7bc9cb8354fc>\u001b[0m in \u001b[0;36m<cell line: 0>\u001b[0;34m()\u001b[0m\n\u001b[1;32m      4\u001b[0m     \u001b[0;34m\"c\"\u001b[0m\u001b[0;34m:\u001b[0m \u001b[0;36m0\u001b[0m\u001b[0;34m\u001b[0m\u001b[0;34m\u001b[0m\u001b[0m\n\u001b[1;32m      5\u001b[0m }\n\u001b[0;32m----> 6\u001b[0;31m \u001b[0mprint\u001b[0m\u001b[0;34m(\u001b[0m\u001b[0mnutritions\u001b[0m\u001b[0;34m[\u001b[0m\u001b[0;36m1\u001b[0m\u001b[0;34m]\u001b[0m\u001b[0;34m)\u001b[0m\u001b[0;34m\u001b[0m\u001b[0;34m\u001b[0m\u001b[0m\n\u001b[0m\u001b[1;32m      7\u001b[0m \u001b[0mprint\u001b[0m\u001b[0;34m(\u001b[0m\u001b[0mnutritions\u001b[0m\u001b[0;34m[\u001b[0m\u001b[0;34m\"p\"\u001b[0m\u001b[0;34m]\u001b[0m\u001b[0;34m)\u001b[0m\u001b[0;34m\u001b[0m\u001b[0;34m\u001b[0m\u001b[0m\n",
            "\u001b[0;31mKeyError\u001b[0m: 1"
          ]
        }
      ]
    }
  ]
}