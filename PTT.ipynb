{
  "nbformat": 4,
  "nbformat_minor": 0,
  "metadata": {
    "colab": {
      "provenance": [],
      "authorship_tag": "ABX9TyMg+9OABSxVOoM5NcnAGUtS",
      "include_colab_link": true
    },
    "kernelspec": {
      "name": "python3",
      "display_name": "Python 3"
    },
    "language_info": {
      "name": "python"
    }
  },
  "cells": [
    {
      "cell_type": "markdown",
      "metadata": {
        "id": "view-in-github",
        "colab_type": "text"
      },
      "source": [
        "<a href=\"https://colab.research.google.com/github/rainbowcity05/tibame0410/blob/main/PTT.ipynb\" target=\"_parent\"><img src=\"https://colab.research.google.com/assets/colab-badge.svg\" alt=\"Open In Colab\"/></a>"
      ]
    },
    {
      "cell_type": "code",
      "execution_count": 24,
      "metadata": {
        "id": "zHAKAfxXytE_"
      },
      "outputs": [],
      "source": [
        "import urllib.request as req\n",
        "import bs4 as bs\n",
        "import json\n",
        "\n",
        "\n",
        "url = \"https://www.ptt.cc/bbs/Beauty/M.1745554518.A.3E7.html\"\n",
        "r = req.Request(url)\n",
        "r.add_header(\"user-agent\",\"Mozilla/5.0 (Windows NT 10.0; Win64; x64) AppleWebKit/537.36 (KHTML, like Gecko) Chrome/135.0.0.0 Safari/537.36\")\n",
        "response = req.urlopen(r)\n",
        "html = bs.BeautifulSoup(response.read())\n",
        "\n",
        "meta = html.find_all(\"span\",{\"class\":\"article-meta-value\"})\n",
        "userid = meta[0].text\n",
        "board_name = meta[1].text\n",
        "postid = meta[2].text\n",
        "post_time = meta[3].text\n",
        "\n",
        "push_list = []\n",
        "pushes = html.find_all(\"div\",{\"class\":\"push\"})\n",
        "\n",
        "for push in pushes:\n",
        "  push_meta = push.find_all(\"span\") #\n",
        "  p_type = push_meta[0].text\n",
        "  if \"推\"in p_type:\n",
        "    push_type = 1\n",
        "  elif \"噓\"in p_type:\n",
        "    push_type = -1\n",
        "  else:\n",
        "    push_type = 0\n",
        "  p_id = push_meta[1].text\n",
        "  p_content = push_meta[2].text.replace(\":\",\"\")\n",
        "  p_ipandtime = push_meta[3].text.strip()\n",
        "  p_dic = {\n",
        "      \"ID\":p_id,\n",
        "      \"Content\":p_content,\n",
        "      \"IP/date\":p_ipandtime\n",
        "  }\n",
        "  push_list.append(p_dic)\n",
        "\n",
        "row = {\n",
        "    \"作者\":userid,\n",
        "    \"看板\":board_name,\n",
        "    \"標題\":postid,\n",
        "    \"時間\":post_time,\n",
        "    \"推文\":push_list\n",
        "}\n",
        "fn = url.split(\"/\")[-1].replace(\".html\",\".json\")\n",
        "with open(fn,\"w\",encoding=\"utf-8\") as f:\n",
        "  json.dump(row, f, ensure_ascii=False, indent=4)\n",
        "\n"
      ]
    }
  ]
}