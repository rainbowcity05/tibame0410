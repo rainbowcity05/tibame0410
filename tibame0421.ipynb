{
  "nbformat": 4,
  "nbformat_minor": 0,
  "metadata": {
    "colab": {
      "provenance": [],
      "authorship_tag": "ABX9TyMHUm7RHvXkFT2kchkqEZd9",
      "include_colab_link": true
    },
    "kernelspec": {
      "name": "python3",
      "display_name": "Python 3"
    },
    "language_info": {
      "name": "python"
    }
  },
  "cells": [
    {
      "cell_type": "markdown",
      "metadata": {
        "id": "view-in-github",
        "colab_type": "text"
      },
      "source": [
        "<a href=\"https://colab.research.google.com/github/rainbowcity05/tibame0410/blob/main/tibame0421.ipynb\" target=\"_parent\"><img src=\"https://colab.research.google.com/assets/colab-badge.svg\" alt=\"Open In Colab\"/></a>"
      ]
    },
    {
      "cell_type": "code",
      "execution_count": null,
      "metadata": {
        "id": "WsyH_RqU74GN"
      },
      "outputs": [],
      "source": [
        "#走階梯，五層階梯總共有幾種走法\n",
        "#一層階梯:1 (1)\n",
        "#二層階梯:2 (1,1),(2)\n",
        "#三層階梯:3 (1,1,1),(1,2),(2,1)\n",
        "#四層階梯:5 (1,1,1,1),(1,2,1),(2,1,1),(1,1,2),(2,2)\n",
        "#五層階梯:8 (1,1,1,1,1),(1,2,1,1),(2,1,1,1),(1,1,1,2),(1,1,2,1),(2,2,1),(1,2,2),(2,1,2)\n",
        "#踏上第四層的走法:踏上第三層再多加一步 or 踏上第二層再多加兩步 : 等於前兩個階層相加\n",
        "#問題:第100層有幾種?\n",
        "\n",
        "i = 1\n",
        "total = 1\n",
        "for i in range(100):\n",
        "\n",
        "  i = i + 1\n",
        "  print(total)\n",
        "\n",
        "\n",
        "\n"
      ]
    },
    {
      "cell_type": "code",
      "source": [
        "##密碼學\n",
        "# 1.凱薩密碼\n",
        "# password = 2\n",
        "# applez > crrngb\n",
        "# 2.維吉尼亞密碼\n",
        "#a b c d ...z > f g i x...a\n",
        "#無法暴力破解，所以要利用語言的特性: 利用特殊自, 利用字母頻率\n",
        "#Enigma\n",
        "#"
      ],
      "metadata": {
        "id": "IOCKKW7i9xvu"
      },
      "execution_count": null,
      "outputs": []
    },
    {
      "cell_type": "code",
      "source": [
        "!pip install colabTurtle"
      ],
      "metadata": {
        "colab": {
          "base_uri": "https://localhost:8080/"
        },
        "collapsed": true,
        "id": "5PXyGytHNF81",
        "outputId": "27a8c4c6-b567-4cc7-fe6a-eaaaded427fa"
      },
      "execution_count": 9,
      "outputs": [
        {
          "output_type": "stream",
          "name": "stdout",
          "text": [
            "Collecting colabTurtle\n",
            "  Downloading ColabTurtle-2.1.0.tar.gz (6.8 kB)\n",
            "  Preparing metadata (setup.py) ... \u001b[?25l\u001b[?25hdone\n",
            "Building wheels for collected packages: colabTurtle\n",
            "  Building wheel for colabTurtle (setup.py) ... \u001b[?25l\u001b[?25hdone\n",
            "  Created wheel for colabTurtle: filename=ColabTurtle-2.1.0-py3-none-any.whl size=7643 sha256=e6a793d7a472b5fa8c02c56f08a3e12434ad1676ede44142572229f37f30cf20\n",
            "  Stored in directory: /root/.cache/pip/wheels/f6/9e/81/137e7da25129474562d30f8660be599e5c8d79228cb747e5b9\n",
            "Successfully built colabTurtle\n",
            "Installing collected packages: colabTurtle\n",
            "Successfully installed colabTurtle-2.1.0\n"
          ]
        }
      ]
    },
    {
      "cell_type": "code",
      "source": [
        "import ColabTurtle.Turtle as turtle\n",
        "turtle.initializeTurtle()\n",
        "turtle.speed(1)\n",
        "turtle.pensize(2)\n",
        ""
      ],
      "metadata": {
        "colab": {
          "base_uri": "https://localhost:8080/",
          "height": 539
        },
        "collapsed": true,
        "id": "NtEs7LU2Nxtv",
        "outputId": "0ce7b6e1-ca06-453c-8ead-a01d1dcf7a54"
      },
      "execution_count": 15,
      "outputs": [
        {
          "output_type": "display_data",
          "data": {
            "text/plain": [
              "<IPython.core.display.HTML object>"
            ],
            "text/html": [
              "\n",
              "      <svg width=\"800\" height=\"500\">\n",
              "        <rect width=\"100%\" height=\"100%\" fill=\"black\"/>\n",
              "        \n",
              "        <g visibility=visible transform=\"rotate(360,400,250) translate(382, 232)\">\n",
              "<path style=\" stroke:none;fill-rule:evenodd;fill:white;fill-opacity:1;\" d=\"M 18.214844 0.632812 C 16.109375 1.800781 15.011719 4.074219 15.074219 7.132812 L 15.085938 7.652344 L 14.785156 7.496094 C 13.476562 6.824219 11.957031 6.671875 10.40625 7.066406 C 8.46875 7.550781 6.515625 9.15625 4.394531 11.992188 C 3.0625 13.777344 2.679688 14.636719 3.042969 15.027344 L 3.15625 15.152344 L 3.519531 15.152344 C 4.238281 15.152344 4.828125 14.886719 8.1875 13.039062 C 9.386719 12.378906 10.371094 11.839844 10.378906 11.839844 C 10.386719 11.839844 10.355469 11.929688 10.304688 12.035156 C 9.832031 13.09375 9.257812 14.820312 8.96875 16.078125 C 7.914062 20.652344 8.617188 24.53125 11.070312 27.660156 C 11.351562 28.015625 11.363281 27.914062 10.972656 28.382812 C 8.925781 30.84375 7.945312 33.28125 8.238281 35.1875 C 8.289062 35.527344 8.28125 35.523438 8.917969 35.523438 C 10.941406 35.523438 13.074219 34.207031 15.136719 31.6875 C 15.359375 31.417969 15.328125 31.425781 15.5625 31.574219 C 16.292969 32.042969 18.023438 32.964844 18.175781 32.964844 C 18.335938 32.964844 19.941406 32.210938 20.828125 31.71875 C 20.996094 31.625 21.136719 31.554688 21.136719 31.558594 C 21.203125 31.664062 21.898438 32.414062 22.222656 32.730469 C 23.835938 34.300781 25.5625 35.132812 27.582031 35.300781 C 27.90625 35.328125 27.9375 35.308594 28.007812 34.984375 C 28.382812 33.242188 27.625 30.925781 25.863281 28.425781 L 25.542969 27.96875 L 25.699219 27.785156 C 28.945312 23.960938 29.132812 18.699219 26.257812 11.96875 L 26.207031 11.84375 L 27.945312 12.703125 C 31.53125 14.476562 32.316406 14.800781 33.03125 14.800781 C 33.976562 14.800781 33.78125 13.9375 32.472656 12.292969 C 28.519531 7.355469 25.394531 5.925781 21.921875 7.472656 L 21.558594 7.636719 L 21.578125 7.542969 C 21.699219 6.992188 21.761719 5.742188 21.699219 5.164062 C 21.496094 3.296875 20.664062 1.964844 19.003906 0.855469 C 18.480469 0.503906 18.457031 0.5 18.214844 0.632812\"/>\n",
              "</g>\n",
              "      </svg>\n",
              "    "
            ]
          },
          "metadata": {}
        },
        {
          "output_type": "stream",
          "name": "stdout",
          "text": [
            "<function position at 0x79a9937bdc60>\n"
          ]
        }
      ]
    },
    {
      "cell_type": "markdown",
      "source": [
        "爬蟲SOP\n",
        "找到網址 > 從原始碼找 > 若沒有就開啟F12看現在頁面\n"
      ],
      "metadata": {
        "id": "Qeze4R1Mbuie"
      }
    },
    {
      "cell_type": "markdown",
      "source": [
        "\n"
      ],
      "metadata": {
        "id": "T6P8zh7z5qCV"
      }
    },
    {
      "cell_type": "markdown",
      "source": [
        "\n",
        "\n",
        "\n",
        "\n",
        "\n",
        "1.   網頁前端\n",
        "> HTML:內容部分\n",
        "HTML是由無數個長方形框構成的\n",
        "\n",
        "<a> ->開始\n",
        "<a/> ->結束\n",
        "名字決定它是是什麼:\n",
        "img是圖片\n",
        "video是影片\n",
        "屬性:決定細節 a配href=\"網址\"/ img/video src=\"網址\"\n",
        "\n",
        "\n",
        "> CSS:找到區塊加上排版\n",
        "\n",
        "特殊排版屬性: class=\"分類1 分類2 分類3\"\n",
        "\n",
        "> 加入區塊引述符號\n",
        "\n",
        "\n",
        "id選擇\n",
        "\n",
        "#特殊質{\n",
        "  XXX:XXXXX\n",
        "}\n",
        "> JavaScrip:\n",
        "\n",
        "2.   網頁後端:\n",
        ">收到網址以後的處理 / 資料庫的管理\n",
        "\n",
        "\n",
        "\n",
        "\n",
        "\n",
        "\n",
        "\n",
        "\n",
        "\n",
        "\n"
      ],
      "metadata": {
        "id": "XRDEolA8A2dv"
      }
    },
    {
      "cell_type": "code",
      "source": [
        "import urllib.request as req\n",
        "import bs4 as bs\n",
        "url = \"https://tabelog.com/tw/tokyo/rstLst/sweets/?SrtT=rt\"\n",
        "resp = req.urlopen(url)\n",
        "content = resp.read()\n",
        "#這裡不能用json.loads把bytes轉換成字典型態\n",
        "html = bs.BeautifulSoup(content)\n",
        "#print(type(html)) > <class 'bs4.BeautifulSoup'> BeautifulSoup型態\n",
        "# print(html.prettify())\n",
        "#區塊:find/find_all(html名字,篩選條件)\n",
        "target = html.find(\"a\",{\"class\":\"list-rst__rst-name-target\"})\n",
        "print(target)\n",
        "#萃取:\n",
        "#1.href屬性(字典):區塊[\"href\"]\n",
        "print(target[\"href\"])\n",
        "#一個型態到底可以擁有那些東西 1.專屬功能(人:吃飯) 2.專屬值(人:身高)\n",
        "#2.顯示內容(專屬值):區塊.text\n",
        "print(target.text)\n"
      ],
      "metadata": {
        "colab": {
          "base_uri": "https://localhost:8080/"
        },
        "id": "bMzIbbJc4nIs",
        "outputId": "be9ab50e-246a-42e4-e74e-67054725962b"
      },
      "execution_count": 32,
      "outputs": [
        {
          "output_type": "stream",
          "name": "stdout",
          "text": [
            "<a class=\"list-rst__rst-name-target cpy-rst-name\" data-list-dest=\"item_top\" href=\"https://tabelog.com/tw/tokyo/A1304/A130401/13184186/\" rel=\"noopener\" target=\"_blank\">Bon.nu</a>\n",
            "https://tabelog.com/tw/tokyo/A1304/A130401/13184186/\n",
            "Bon.nu\n"
          ]
        }
      ]
    },
    {
      "cell_type": "code",
      "source": [
        "\n",
        "import urllib.request as req\n",
        "import bs4 as bs\n",
        "url = \"https://tabelog.com/tw/tokyo/rstLst/sweets/?SrtT=rt\"\n",
        "resp = req.urlopen(url)\n",
        "content = resp.read()\n",
        "#這裡不能用json.loads把bytes轉換成字典型態\n",
        "html = bs.BeautifulSoup(content)\n",
        "#print(type(html)) > <class 'bs4.BeautifulSoup'> BeautifulSoup型態\n",
        "# print(html.prettify())\n",
        "#區塊:find/find_all(html名字,篩選條件)\n",
        "target = html.find(\"a\",{\"class\":\"list-rst__rst-name-target\"})\n",
        "print(target)\n",
        "#萃取:\n",
        "#1.href屬性(字典):區塊[\"href\"]\n",
        "# print(target[\"href\"])\n",
        "#一個型態到底可以擁有那些東西 1.專屬功能(人:吃飯) 2.專屬值(人:身高)\n",
        "#2.顯示內容(專屬值):區塊.text\n",
        "print(target.text)\n"
      ],
      "metadata": {
        "colab": {
          "base_uri": "https://localhost:8080/"
        },
        "id": "b2KlF0iWbnPO",
        "outputId": "65a0b8a0-c358-4d69-9860-e77f80287ee6"
      },
      "execution_count": 41,
      "outputs": [
        {
          "output_type": "stream",
          "name": "stdout",
          "text": [
            "<a class=\"list-rst__rst-name-target cpy-rst-name\" data-list-dest=\"item_top\" href=\"https://tabelog.com/tw/tokyo/A1304/A130401/13184186/\" rel=\"noopener\" target=\"_blank\">Bon.nu</a>\n",
            "Bon.nu\n"
          ]
        }
      ]
    },
    {
      "cell_type": "code",
      "source": [],
      "metadata": {
        "id": "Pkis_xvGcPte"
      },
      "execution_count": 38,
      "outputs": []
    }
  ]
}