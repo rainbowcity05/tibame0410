{
  "nbformat": 4,
  "nbformat_minor": 0,
  "metadata": {
    "colab": {
      "provenance": [],
      "authorship_tag": "ABX9TyMRsBYnBw+d5Q+dhDN5AyYU",
      "include_colab_link": true
    },
    "kernelspec": {
      "name": "python3",
      "display_name": "Python 3"
    },
    "language_info": {
      "name": "python"
    }
  },
  "cells": [
    {
      "cell_type": "markdown",
      "metadata": {
        "id": "view-in-github",
        "colab_type": "text"
      },
      "source": [
        "<a href=\"https://colab.research.google.com/github/rainbowcity05/tibame0410/blob/main/pchome.ipynb\" target=\"_parent\"><img src=\"https://colab.research.google.com/assets/colab-badge.svg\" alt=\"Open In Colab\"/></a>"
      ]
    },
    {
      "cell_type": "code",
      "execution_count": null,
      "metadata": {
        "colab": {
          "base_uri": "https://localhost:8080/"
        },
        "id": "Agd8yDgyUdku",
        "outputId": "34aa3bf3-b6a0-4b11-bb0f-78b8951b901b"
      },
      "outputs": [
        {
          "output_type": "stream",
          "name": "stderr",
          "text": [
            "Traceback (most recent call last):\n"
          ]
        }
      ],
      "source": [
        "\n",
        "import urllib.request as req\n",
        "import bs4 as bs\n",
        "import os\n",
        "import pandas as pd\n",
        "\n",
        "#建立資料夾\n",
        "dn = \"pchome/\"\n",
        "if not os.path.exists(dn):\n",
        "    os.mkdir(dn)\n",
        "\n",
        "#準備table\n",
        "table = []\n",
        "\n",
        "url = \"https://24h.pchome.com.tw/search/?q=%E5%90%B9%E9%A2%A8%E6%A9%9F\"\n",
        "resp = req.urlopen(url)\n",
        "html = bs.BeautifulSoup(resp.read())\n",
        "links = html.find_all(\"a\", {\"class\":\"c-prodInfoV2__link\"})\n",
        "for link in links:\n",
        "    link_href = \"https://24h.pchome.com.tw\" + link[\"href\"]\n",
        "    p_resp = req.urlopen(link_href)\n",
        "    p_html = bs.BeautifulSoup(p_resp.read())\n",
        "\n",
        "    # 產品品牌\n",
        "    p_brand = p_html.find(\"span\", {\"class\":\"o-prodMainName__colorSecondary\"}).text\n",
        "\n",
        "    # 產品名稱\n",
        "    p_name = p_html.find(\"h1\", {\"class\":\"o-prodMainName__grayDarkest\"}).text\n",
        "    p_name_text = p_name.strip()\n",
        "\n",
        "    #評分\n",
        "    p_rating_all = p_html.find(\"div\", {\"class\":\"c-ratingIcon__flex\"})\n",
        "    if not p_rating_all == None:\n",
        "        p_rating = p_rating_all.find(\"div\", {\"class\":\"c-ratingIcon__textNumber\"})\n",
        "        p_rating_count = p_rating_all.find(\"a\")\n",
        "        p_rating_text = p_rating.text.strip()\n",
        "        p_rating_count_text = p_rating_count.text.strip().replace(\"則評價\", \"\")\n",
        "    else:\n",
        "        p_rating_text = \"-\"\n",
        "        p_rating_count_text = \"-\"\n",
        "    #介紹\n",
        "    p_intro_list = p_html.find_all(\"li\", {\"class\":\"c-blockCombine__item--prodSlogan\"})\n",
        "    p_intro_text_list = []\n",
        "    for p_intro in p_intro_list:\n",
        "        p_intro_text = p_intro.text.strip()\n",
        "        p_intro_text_list.append(p_intro_text)\n",
        "    p_intro_text_join = \"\"\n",
        "    for p_intro_text in p_intro_text_list:\n",
        "        p_intro_text_join = p_intro_text_join + p_intro_text + \"\\n\"\n",
        "\n",
        "    #價格\n",
        "    p_discount_price = p_html.find(\"div\", {\"class\":\"o-prodPrice__price\"}).text\n",
        "    p_original_price = p_html.find(\"div\", {\"class\":\"o-prodPrice__originalPrice\"})\n",
        "    if not p_original_price == None:\n",
        "      p_original_price = p_original_price.text\n",
        "    else:\n",
        "      p_original_price = \"-\"\n",
        "\n",
        "    #抓圖片url\n",
        "    p_img = p_html.find(\"div\", {\"class\":\"c-radiusPhotoImage__img\"}).find(\"img\")\n",
        "    p_img_source = p_img[\"src\"]\n",
        "    if not \"https:\" in p_img_source:\n",
        "        p_img_source = \"https:\" + p_img_source\n",
        "    #圖片存檔\n",
        "    fn = link_href.split(\"/\")[-1]\n",
        "    fn = dn + fn +\".jpg\"\n",
        "    req.urlretrieve(p_img_source,fn)\n",
        "\n",
        "\n",
        "    #滿額贈\n",
        "    p_labels = p_html.find_all(\"div\", {\"class\":\"c-label__rectangle\"})\n",
        "    p_full_prize = \"N\"\n",
        "    for p_label in p_labels:\n",
        "        if \"滿額贈\" in p_label.text:\n",
        "            p_full_prize = \"Y\"\n",
        "\n",
        "\n",
        "    # print(p_brand)\n",
        "    # print(p_name)\n",
        "    # print(p_rating_text)\n",
        "    # print(\"幾則評價:\",p_rating_count_text)\n",
        "    # print(p_intro_text_join)\n",
        "    # print(\"折扣價:\",p_discount_price)\n",
        "    # print(\"原價:\",p_original_price)\n",
        "    # print(p_full_prize)\n",
        "    # print(p_img_source)\n",
        "    # print(\"*\"*30)\n",
        "\n",
        "\n",
        "    #建立raw data\n",
        "    data = {\n",
        "      \"品牌\":p_brand,\n",
        "      \"名稱\":p_name,\n",
        "      \"評分\":p_rating_text,\n",
        "      \"幾則\":p_rating_count_text,\n",
        "      \"介紹\":p_intro_text_join,\n",
        "      \"現價\":p_discount_price,\n",
        "      \"原價\":p_original_price,\n",
        "      \"滿額贈\":p_full_prize,\n",
        "      \"圖片\":p_img_source,\n",
        "      \"圖片儲存\":fn\n",
        "    }\n",
        "    table.append(table)\n",
        "\n",
        "df = pd.DataFrame(table)\n",
        "df.to_csv(\"pchome.csv\", encoding=\"utf-8\", index=False)\n",
        "df\n",
        "\n",
        "\n"
      ]
    }
  ]
}