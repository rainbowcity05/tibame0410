{
  "nbformat": 4,
  "nbformat_minor": 0,
  "metadata": {
    "colab": {
      "provenance": [],
      "authorship_tag": "ABX9TyOxCZU1c9SvNbTHCMJDp0w3",
      "include_colab_link": true
    },
    "kernelspec": {
      "name": "python3",
      "display_name": "Python 3"
    },
    "language_info": {
      "name": "python"
    }
  },
  "cells": [
    {
      "cell_type": "markdown",
      "metadata": {
        "id": "view-in-github",
        "colab_type": "text"
      },
      "source": [
        "<a href=\"https://colab.research.google.com/github/rainbowcity05/tibame0410/blob/main/pchome.ipynb\" target=\"_parent\"><img src=\"https://colab.research.google.com/assets/colab-badge.svg\" alt=\"Open In Colab\"/></a>"
      ]
    },
    {
      "cell_type": "code",
      "execution_count": null,
      "metadata": {
        "colab": {
          "base_uri": "https://localhost:8080/",
          "height": 383
        },
        "id": "Agd8yDgyUdku",
        "outputId": "3c04165a-8e1d-465d-d6fd-632219b09829"
      },
      "outputs": [
        {
          "output_type": "error",
          "ename": "ModuleNotFoundError",
          "evalue": "No module named '_typeshed'",
          "traceback": [
            "\u001b[0;31m---------------------------------------------------------------------------\u001b[0m",
            "\u001b[0;31mModuleNotFoundError\u001b[0m                       Traceback (most recent call last)",
            "\u001b[0;32m<ipython-input-23-1b81f3edd98c>\u001b[0m in \u001b[0;36m<cell line: 0>\u001b[0;34m()\u001b[0m\n\u001b[0;32m----> 1\u001b[0;31m \u001b[0;32mfrom\u001b[0m \u001b[0m_typeshed\u001b[0m \u001b[0;32mimport\u001b[0m \u001b[0mNoneType\u001b[0m\u001b[0;34m\u001b[0m\u001b[0;34m\u001b[0m\u001b[0m\n\u001b[0m\u001b[1;32m      2\u001b[0m \u001b[0;34m\u001b[0m\u001b[0m\n\u001b[1;32m      3\u001b[0m \u001b[0;32mimport\u001b[0m \u001b[0murllib\u001b[0m\u001b[0;34m.\u001b[0m\u001b[0mrequest\u001b[0m \u001b[0;32mas\u001b[0m \u001b[0mreq\u001b[0m\u001b[0;34m\u001b[0m\u001b[0;34m\u001b[0m\u001b[0m\n\u001b[1;32m      4\u001b[0m \u001b[0;32mimport\u001b[0m \u001b[0mbs4\u001b[0m \u001b[0;32mas\u001b[0m \u001b[0mbs\u001b[0m\u001b[0;34m\u001b[0m\u001b[0;34m\u001b[0m\u001b[0m\n\u001b[1;32m      5\u001b[0m \u001b[0murl\u001b[0m \u001b[0;34m=\u001b[0m \u001b[0;34m\"https://24h.pchome.com.tw/search/?q=%E5%90%B9%E9%A2%A8%E6%A9%9F\"\u001b[0m\u001b[0;34m\u001b[0m\u001b[0;34m\u001b[0m\u001b[0m\n",
            "\u001b[0;31mModuleNotFoundError\u001b[0m: No module named '_typeshed'",
            "",
            "\u001b[0;31m---------------------------------------------------------------------------\u001b[0;32m\nNOTE: If your import is failing due to a missing package, you can\nmanually install dependencies using either !pip or !apt.\n\nTo view examples of installing some common dependencies, click the\n\"Open Examples\" button below.\n\u001b[0;31m---------------------------------------------------------------------------\u001b[0m\n"
          ],
          "errorDetails": {
            "actions": [
              {
                "action": "open_url",
                "actionText": "Open Examples",
                "url": "/notebooks/snippets/importing_libraries.ipynb"
              }
            ]
          }
        }
      ],
      "source": [
        "from _typeshed import NoneType\n",
        "\n",
        "import urllib.request as req\n",
        "import bs4 as bs\n",
        "url = \"https://24h.pchome.com.tw/search/?q=%E5%90%B9%E9%A2%A8%E6%A9%9F\"\n",
        "resp = req.urlopen(url)\n",
        "html = bs.BeautifulSoup(resp.read())\n",
        "links = html.find_all(\"a\", {\"class\":\"c-prodInfoV2__link\"})\n",
        "for link in links:\n",
        "    link_href = \"https://24h.pchome.com.tw\" + link[\"href\"]\n",
        "    p_resp = req.urlopen(link_href)\n",
        "    p_html = bs.BeautifulSoup(p_resp.read())\n",
        "\n",
        "    p_brand = p_html.find(\"span\", {\"class\":\"o-prodMainName__colorSecondary\"}).text\n",
        "    p_name = p_html.find(\"h1\", {\"class\":\"o-prodMainName__grayDarkest\"}).text\n",
        "    if p_name == None:\n",
        "        p_name = \"-\"\n",
        "    p_rating = p_html.find(\"div\", {\"class\":\"c-ratingIcon__textNumber c-ratingIcon__textNumber--m700GrayDarkest\"}).text\n",
        "    p_intro = p_html.find(\"div\", {\"class\":\"c-blockCombine c-blockCombine--prodSlogan\"}).text\n",
        "    p_discount_price = p_html.find(\"div\", {\"class\":\"o-prodPrice__price\"}).text\n",
        "    p_original_price = p_html.find(\"div\", {\"class\":\"o-prodPrice__originalPrice\"}).text\n",
        "    if p_original_price == None:\n",
        "        p_original_price = p_discount_price\n",
        "    # p_img = p_html.find(\"div\", {\"class\":\"c-radiusPhotoImage__img\"}).get[\"src\"]\n",
        "\n",
        "    #滿額贈\n",
        "    p_labels = p_html.find_all(\"div\", {\"class\":\"c-label__rectangle\"})\n",
        "    p_full_prize = \"N\"\n",
        "    for p_label in p_labels:\n",
        "        if \"滿額贈\" in p_label.text:\n",
        "            p_full_prize = \"Y\"\n",
        "\n",
        "\n",
        "\n",
        "\n",
        "    # print(p_brand)\n",
        "    # print(p_name)\n",
        "    # print(p_rating)\n",
        "    # print(p_intro)\n",
        "    print(\"折扣價:\",p_discount_price)\n",
        "    print(\"原價:\",p_original_price)\n",
        "    # print(p_full_prize)\n",
        "    # print(p_img)\n",
        "\n",
        "\n",
        "    #建立raw data\n",
        "    # raw = {\n",
        "    # \"品牌\":p_brand,\n",
        "    # \"產品名\":p_name,\n",
        "    # \"評分\":p_rating,\n",
        "    # \"介紹\":p_intro,\n",
        "    # \"折扣價\":p_discount_price,\n",
        "    # \"原價\":p_original_price,\n",
        "    # \"是否滿額贈\":p_full_prize\n",
        "\n",
        "    # }\n",
        "    # break\n",
        "    # print(raw)\n",
        "\n",
        "\n"
      ]
    }
  ]
}