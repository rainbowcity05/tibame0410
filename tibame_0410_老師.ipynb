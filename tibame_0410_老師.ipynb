{
  "nbformat": 4,
  "nbformat_minor": 0,
  "metadata": {
    "colab": {
      "provenance": [],
      "authorship_tag": "ABX9TyP5MscZLei3vsPK8QMnEqal",
      "include_colab_link": true
    },
    "kernelspec": {
      "name": "python3",
      "display_name": "Python 3"
    },
    "language_info": {
      "name": "python"
    }
  },
  "cells": [
    {
      "cell_type": "markdown",
      "metadata": {
        "id": "view-in-github",
        "colab_type": "text"
      },
      "source": [
        "<a href=\"https://colab.research.google.com/github/Elwing-Chou/tibame0410/blob/main/tibame_0410.ipynb\" target=\"_parent\"><img src=\"https://colab.research.google.com/assets/colab-badge.svg\" alt=\"Open In Colab\"/></a>"
      ]
    },
    {
      "cell_type": "markdown",
      "source": [
        "\n",
        "\n",
        "```\n",
        "1. repl.it: 標準python檔案, .py作為結尾, 執行是從頭到尾\n",
        "2. colab: python工具(jupyter notebook), ipynb作為結尾\n",
        "```\n",
        "\n"
      ],
      "metadata": {
        "id": "DIJvtYEOV9JR"
      }
    },
    {
      "cell_type": "markdown",
      "source": [
        "latex(數學)語法\n",
        "\n",
        "$ sum = \\sum_{i=1}^{10} \\frac{i}{2} $"
      ],
      "metadata": {
        "id": "vZjKnD9CYJLh"
      }
    },
    {
      "cell_type": "markdown",
      "source": [
        "\n",
        "\n",
        "```\n",
        "1. 註解: # xxxx\n",
        "2. 功能(function): print(xxxx)\n",
        "  * 沒有參數: xxxx()\n",
        "3. 不要重複寫: 延伸後面很多語法(函式定義/物件導向)\n",
        "4. =: 名稱 = value\n",
        "  a. 5 == 3 + 2(左右是否相等)\n",
        "  b. x = 2(取代)\n",
        "\n",
        "5. 型態(type):\n",
        "  a. 數字: python會自動幫你畫分兩種 整數(int) 小數(float)\n",
        "  b. 字串: str, 記得用\"\"把文字括起來\n",
        "\n",
        "6. 型態轉換: str() int() float()\n",
        "\n",
        "7. input(參數字串)\n",
        "  * 一個功能:\n",
        "   a. 參數  \n",
        "   b. 回傳值(做完這個功能以後得到的一個\"新的\"結果): check type(str)\n",
        "  * 一個值只有在做=以後才會改\n",
        "\n",
        "\n",
        "8. 如果否則(if else)\n",
        "if cal >= total_cal:\n",
        "    print(\"吃夠了\")\n",
        "else:\n",
        "    print(\"吃不夠\")\n",
        "\n",
        "強制排版(縮排)(劇本式排版法)\n",
        "(冒號)(TAB)\n",
        "\n",
        "Elwing:\n",
        "    xxxx\n",
        "Amy:\n",
        "    xxxx\n",
        "\n",
        "```\n",
        "\n"
      ],
      "metadata": {
        "id": "PaN4Nr88g6LS"
      }
    },
    {
      "cell_type": "code",
      "execution_count": 28,
      "metadata": {
        "id": "ZIll5O5yU1Mt",
        "colab": {
          "base_uri": "https://localhost:8080/",
          "height": 106
        },
        "outputId": "75291857-1aea-4c0a-d836-78cca6fc21f3"
      },
      "outputs": [
        {
          "output_type": "error",
          "ename": "IndentationError",
          "evalue": "unexpected indent (<ipython-input-28-8f3a27246fb8>, line 10)",
          "traceback": [
            "\u001b[0;36m  File \u001b[0;32m\"<ipython-input-28-8f3a27246fb8>\"\u001b[0;36m, line \u001b[0;32m10\u001b[0m\n\u001b[0;31m    print(\"總卡路里:\" + str(calorie))\u001b[0m\n\u001b[0m    ^\u001b[0m\n\u001b[0;31mIndentationError\u001b[0m\u001b[0;31m:\u001b[0m unexpected indent\n"
          ]
        }
      ],
      "source": [
        "# calorie = protein * 4 + fat * 9 + carbon * 4\n",
        "protein = float(input(\"你今天吃多少蛋白質:\"))\n",
        "fat = float(input(\"你今天吃多少脂肪:\"))\n",
        "carbon = float(input(\"你今天吃多少碳水:\"))\n",
        "calorie = protein * 4 + fat * 9 + carbon * 4\n",
        "\n",
        "print(\"蛋白質:\" + str(protein))\n",
        "print(\"脂肪:\" + str(fat))\n",
        "print(\"碳水化合物:\" + str(carbon))\n",
        "print(\"總卡路里:\" + str(calorie))\n",
        "\n",
        "total_calorie = 2200\n",
        "if calorie >= total_calorie:\n",
        "    print(\"吃夠了\")\n",
        "else:\n",
        "    print(\"吃不夠\")\n",
        "print(\"!!!!\")"
      ]
    },
    {
      "cell_type": "markdown",
      "source": [
        "\n",
        "\n",
        "```\n",
        "\"小數\" -> \"數數\"\n",
        "\n",
        "十進位數數: 0...9 10\n",
        "六進位數數: 0...5 10..15 50...55 100\n",
        "二進位數數: 0 1 10 11 100 101 110 111 1000\n",
        "\n",
        "整數一定可以無痛轉換\n",
        "小數有誤差是正常的\n",
        "\n",
        "一塊Pizaa / 3\n",
        "1. 十進位: 0.33333333\n",
        "2. 三進位: 0.1\n",
        "```\n",
        "\n"
      ],
      "metadata": {
        "id": "OhKglx6Int_t"
      }
    },
    {
      "cell_type": "code",
      "source": [
        "3 + 3.14"
      ],
      "metadata": {
        "colab": {
          "base_uri": "https://localhost:8080/"
        },
        "id": "WC5Ty4Tvm8Q4",
        "outputId": "e56b2e45-d1a6-4c21-9b43-7de387cf1575"
      },
      "execution_count": 9,
      "outputs": [
        {
          "output_type": "execute_result",
          "data": {
            "text/plain": [
              "6.140000000000001"
            ]
          },
          "metadata": {},
          "execution_count": 9
        }
      ]
    },
    {
      "cell_type": "code",
      "source": [
        "a = 4.6\n",
        "b = int(a)\n",
        "print(a)\n",
        "print(b)"
      ],
      "metadata": {
        "colab": {
          "base_uri": "https://localhost:8080/"
        },
        "id": "y56kDCtcwfRP",
        "outputId": "10f5f51a-8bda-4b49-cc87-0589de3aa0b2"
      },
      "execution_count": 20,
      "outputs": [
        {
          "output_type": "stream",
          "name": "stdout",
          "text": [
            "4.6\n",
            "4\n"
          ]
        }
      ]
    },
    {
      "cell_type": "markdown",
      "source": [
        "\n",
        "\n",
        "```\n",
        "剪刀石頭布\n",
        "\n",
        "1. 只要有大小關係:數字\n",
        "\n",
        "2. 只要用到別之檔案: import\n",
        "\n",
        "import 檔案名字\n",
        "照抄依次import後面.xxx\n",
        "\n",
        "* 除了 https://docs.python.org/zh-tw/3.13/library/functions.html 你都要import\n",
        "\n",
        "3. 清單型態(list)\n",
        "trans = [\"\", \"\", \"\"]\n",
        "\n",
        "* python會給清單的每一個東西一個key: 0 1 2\n",
        "\n",
        "key-value: 用key查value操作\n",
        "查東西[key]\n",
        "\n",
        "4. 如果...否則如果...否則(單選)\n",
        "  (if elif else)\n",
        "if bmi > 25:\n",
        "    xxx\n",
        "elif bmi > 18:\n",
        "    xxx\n",
        "else:\n",
        "    xxx\n",
        "\n",
        "* else可以不寫\n",
        "* 你可以把最難的放在else\n",
        "\n",
        "5. 除法兩個符號\n",
        "  7 / 3 = 2...1\n",
        "  取商: 7 // 3 -> 2\n",
        "  取餘(mod): 7 % 3 -> 1\n",
        "\n",
        "```\n",
        "\n"
      ],
      "metadata": {
        "id": "FdgvidMeN5Us"
      }
    },
    {
      "cell_type": "code",
      "source": [
        "import random\n",
        "\n",
        "trans = [\"剪刀\", \"石頭\", \"布\"]\n",
        "my = int(input(\"0.剪刀 1.石頭 2.布\"))\n",
        "com = random.randint(0, 2)\n",
        "print(\"我出的\", trans[my])\n",
        "print(\"電腦的\", trans[com])\n",
        "\n",
        "if com == (my - 1) % 3:\n",
        "    print(\"我贏了\")\n",
        "elif com == (my + 1) % 3:\n",
        "    print(\"我輸了\")\n",
        "else:\n",
        "    print(\"平手\")"
      ],
      "metadata": {
        "colab": {
          "base_uri": "https://localhost:8080/"
        },
        "id": "QQvVCoJfN3ip",
        "outputId": "1734f0ed-acba-4376-da6d-819ca018d54a"
      },
      "execution_count": 49,
      "outputs": [
        {
          "output_type": "stream",
          "name": "stdout",
          "text": [
            "0.剪刀 1.石頭 2.布0\n",
            "我出的 剪刀\n",
            "電腦的 布\n",
            "我贏了\n"
          ]
        }
      ]
    },
    {
      "cell_type": "code",
      "source": [
        "s = [\"a\", \"b\", \"c\"]\n",
        "s[1]"
      ],
      "metadata": {
        "colab": {
          "base_uri": "https://localhost:8080/",
          "height": 35
        },
        "id": "PEtLI1PhaYyu",
        "outputId": "42c5a5c9-8078-49bd-869f-d37d3d2ca89b"
      },
      "execution_count": 39,
      "outputs": [
        {
          "output_type": "execute_result",
          "data": {
            "text/plain": [
              "'b'"
            ],
            "application/vnd.google.colaboratory.intrinsic+json": {
              "type": "string"
            }
          },
          "metadata": {},
          "execution_count": 39
        }
      ]
    },
    {
      "cell_type": "code",
      "source": [
        "import random\n",
        "\n",
        "trans = [\"剪刀(0)\", \"石頭(0)\", \"布(0)\", \"剪刀(1)\", \"石頭(1)\", \"布(1)\"]\n",
        "# my = int(input(\"0-5\"))\n",
        "# com = random.randint(0, 5)\n",
        "my = 3\n",
        "com = 5\n",
        "print(\"我出的\", trans[my])\n",
        "print(\"電腦的\", trans[com])\n",
        "\n",
        "my_group = my // 3\n",
        "com_group = com // 3\n",
        "\n",
        "# 先確認是否同組\n",
        "if my_group == com_group:\n",
        "    # 0 1 2 不便\n",
        "    # 3 4 5 -> 0 1 2\n",
        "    print(\"same group\")\n",
        "    my_mod = my % 3\n",
        "    com_mod = com % 3\n",
        "    if com_mod == (my_mod - 1) % 3:\n",
        "        print(\"我贏了\")\n",
        "    elif com_mod == (my_mod + 1) % 3:\n",
        "        print(\"我輸了\")\n",
        "    else:\n",
        "        print(\"平手\")\n",
        "\n",
        "else:\n",
        "    print(\"even(dif group)\")"
      ],
      "metadata": {
        "colab": {
          "base_uri": "https://localhost:8080/"
        },
        "id": "HWwlGd2TmD4G",
        "outputId": "992a572d-fb8e-4c0f-868c-3869e7c6da6c"
      },
      "execution_count": 55,
      "outputs": [
        {
          "output_type": "stream",
          "name": "stdout",
          "text": [
            "我出的 剪刀(1)\n",
            "電腦的 布(1)\n",
            "same group\n",
            "我贏了\n"
          ]
        }
      ]
    },
    {
      "cell_type": "code",
      "source": [
        "l = [\n",
        "    [\"a\", \"b\", \"c\"],\n",
        "    [\"d\", \"e\", \"f\"],\n",
        "    [\"g\", \"h\", \"i\"]\n",
        "]\n",
        "l[1][2]"
      ],
      "metadata": {
        "colab": {
          "base_uri": "https://localhost:8080/",
          "height": 35
        },
        "id": "Yqa51AcxwxA0",
        "outputId": "85b66ec0-5053-4ed4-fb21-6f77f92d1bd9"
      },
      "execution_count": 60,
      "outputs": [
        {
          "output_type": "execute_result",
          "data": {
            "text/plain": [
              "'f'"
            ],
            "application/vnd.google.colaboratory.intrinsic+json": {
              "type": "string"
            }
          },
          "metadata": {},
          "execution_count": 60
        }
      ]
    },
    {
      "cell_type": "code",
      "source": [
        "damages = [\n",
        "    [1, 1.5, 0.5],\n",
        "    [0.5, 1, 1.5],\n",
        "    [1.5, 0.5, 1]\n",
        "]\n",
        "my = 0\n",
        "com = 1\n",
        "trans = [\"Saber\", \"Lancer\", \"Archer\"]\n",
        "print(trans[my], \"打\", trans[com], \"傷害是:\", damages[my][com])"
      ],
      "metadata": {
        "colab": {
          "base_uri": "https://localhost:8080/"
        },
        "id": "5nJPwokHxd1R",
        "outputId": "13ffb33c-a49d-477d-c56b-418d12160ec3"
      },
      "execution_count": 62,
      "outputs": [
        {
          "output_type": "stream",
          "name": "stdout",
          "text": [
            "Saber 打 Lancer 傷害是: 1.5\n"
          ]
        }
      ]
    }
  ]
}