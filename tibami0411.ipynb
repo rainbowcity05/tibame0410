{
  "nbformat": 4,
  "nbformat_minor": 0,
  "metadata": {
    "colab": {
      "provenance": [],
      "authorship_tag": "ABX9TyNV0KGiJCPRoEpe28IiAlIZ",
      "include_colab_link": true
    },
    "kernelspec": {
      "name": "python3",
      "display_name": "Python 3"
    },
    "language_info": {
      "name": "python"
    }
  },
  "cells": [
    {
      "cell_type": "markdown",
      "metadata": {
        "id": "view-in-github",
        "colab_type": "text"
      },
      "source": [
        "<a href=\"https://colab.research.google.com/github/rainbowcity05/tibame0410/blob/main/tibami0411.ipynb\" target=\"_parent\"><img src=\"https://colab.research.google.com/assets/colab-badge.svg\" alt=\"Open In Colab\"/></a>"
      ]
    },
    {
      "cell_type": "code",
      "execution_count": 3,
      "metadata": {
        "colab": {
          "base_uri": "https://localhost:8080/"
        },
        "id": "MGvm6RfWZfMI",
        "outputId": "763c729d-7c30-4d7c-ce66-4b731a1ab222"
      },
      "outputs": [
        {
          "output_type": "stream",
          "name": "stdout",
          "text": [
            "hello\n",
            "hello\n",
            "hello\n",
            "hello\n",
            "hello\n",
            "hello\n",
            "hello\n",
            "hello\n",
            "hello\n",
            "hello\n"
          ]
        }
      ],
      "source": [
        "#屬次數型迴圈\n",
        "#從0數到9，就數10次\n",
        "i = 0\n",
        "while i < 10:\n",
        "  print(\"hello\")\n",
        "  i = i + 1\n",
        "#養成好習慣，這三條絕對不動: 次數就在小於後面;i=0到次數減1\n"
      ]
    },
    {
      "cell_type": "code",
      "source": [
        "#10數到0\n",
        "\n",
        "i = 0\n",
        "while i < 10:\n",
        "  print(i)\n",
        "  i = i + 1"
      ],
      "metadata": {
        "colab": {
          "base_uri": "https://localhost:8080/"
        },
        "id": "N6w0_v3FcHTc",
        "outputId": "d417a5c6-e8e8-4fdf-b640-79d935f53c1b"
      },
      "execution_count": 5,
      "outputs": [
        {
          "output_type": "stream",
          "name": "stdout",
          "text": [
            "0\n",
            "1\n",
            "2\n",
            "3\n",
            "4\n",
            "5\n",
            "6\n",
            "7\n",
            "8\n",
            "9\n"
          ]
        }
      ]
    },
    {
      "cell_type": "markdown",
      "source": [
        "不要處理難問題，如果問題太難，就把它簡化到自己可以處理的範疇\n",
        "把思考固定，再去套不同問題\n",
        "5, 12, 19...地1000個數字是什麼 > 7i+5...7*1000+5"
      ],
      "metadata": {
        "id": "wMpIemWLfxyN"
      }
    },
    {
      "cell_type": "code",
      "source": [
        "i = 0\n",
        "while i < 10:\n",
        "  print(\"o\" * (i+1))\n",
        "  i = i+1\n",
        "\n"
      ],
      "metadata": {
        "colab": {
          "base_uri": "https://localhost:8080/"
        },
        "id": "c1_mqXrUf4c7",
        "outputId": "f34a2628-b243-49f6-c175-897334717b29"
      },
      "execution_count": 10,
      "outputs": [
        {
          "output_type": "stream",
          "name": "stdout",
          "text": [
            "o\n",
            "oo\n",
            "ooo\n",
            "oooo\n",
            "ooooo\n",
            "oooooo\n",
            "ooooooo\n",
            "oooooooo\n",
            "ooooooooo\n",
            "oooooooooo\n"
          ]
        }
      ]
    },
    {
      "cell_type": "code",
      "source": [
        "i = 0\n",
        "layer = 10\n",
        "left, right = \" \", \"x\"\n",
        "\n",
        "while i < layer:\n",
        "  lcount = i\n",
        "  rcount = layer - i\n",
        "  print(left * lcount + right * rcount)\n",
        "  i = i + 1"
      ],
      "metadata": {
        "colab": {
          "base_uri": "https://localhost:8080/"
        },
        "id": "FK49X1nLiOYV",
        "outputId": "b4770303-a53a-4647-9820-dc2ffd7ebedc"
      },
      "execution_count": 17,
      "outputs": [
        {
          "output_type": "stream",
          "name": "stdout",
          "text": [
            "xxxxxxxxxx\n",
            " xxxxxxxxx\n",
            "  xxxxxxxx\n",
            "   xxxxxxx\n",
            "    xxxxxx\n",
            "     xxxxx\n",
            "      xxxx\n",
            "       xxx\n",
            "        xx\n",
            "         x\n"
          ]
        }
      ]
    },
    {
      "cell_type": "code",
      "source": [
        "# ___o\n",
        "# __xx\n",
        "# _ooo\n",
        "# xxxx\n",
        "#判斷基數偶數 %2\n",
        "\n",
        "i = 0\n",
        "layer = 10\n",
        "left = \" \"\n",
        "even_right = \"x\"\n",
        "right = \"o\"\n",
        "\n",
        "\n",
        "while i < layer:\n",
        "  lcount = layer - i\n",
        "  rcount = i\n",
        "  if i % 2 == 0:\n",
        "    print(left * lcount + even_right * rcount)\n",
        "  else:\n",
        "    print(left * lcount + right * rcount)\n",
        "  i = i + 1"
      ],
      "metadata": {
        "colab": {
          "base_uri": "https://localhost:8080/"
        },
        "id": "grnHWWYBlr0k",
        "outputId": "fdd77354-4e5f-43d5-82c0-e35aded3a51e"
      },
      "execution_count": 41,
      "outputs": [
        {
          "output_type": "stream",
          "name": "stdout",
          "text": [
            "          \n",
            "         o\n",
            "        xx\n",
            "       ooo\n",
            "      xxxx\n",
            "     ooooo\n",
            "    xxxxxx\n",
            "   ooooooo\n",
            "  xxxxxxxx\n",
            " ooooooooo\n"
          ]
        }
      ]
    },
    {
      "cell_type": "code",
      "source": [
        "# Optional\n",
        "# 四個符號，輪流用\n",
        "\n",
        "i = 0\n",
        "layer = 10\n",
        "# left = \" \"\n",
        "# right = \"o\"\n",
        "# e_right = \"x\"\n",
        "# t_right = \"*\"\n",
        "# f_right = \"+\"\n",
        "ls = [\"$\",\"*\",\"x\",\"%\"]\n",
        "rs = [\" \"]\n",
        "while i < layer:\n",
        "  left, right = \" \", ls[i%len(rs)]\n",
        "  lcount = layer - i - 1\n",
        "  rcount = i + 1\n",
        "  print(left * lcount + right * rcount)\n",
        "  i = i + 1"
      ],
      "metadata": {
        "colab": {
          "base_uri": "https://localhost:8080/"
        },
        "id": "tvDsS0Wxl1P9",
        "outputId": "96d244fb-194f-427c-a692-0b7f7b9024c1"
      },
      "execution_count": 51,
      "outputs": [
        {
          "output_type": "stream",
          "name": "stdout",
          "text": [
            "         $\n",
            "        $$\n",
            "       $$$\n",
            "      $$$$\n",
            "     $$$$$\n",
            "    $$$$$$\n",
            "   $$$$$$$\n",
            "  $$$$$$$$\n",
            " $$$$$$$$$\n",
            "$$$$$$$$$$\n"
          ]
        }
      ]
    },
    {
      "cell_type": "code",
      "source": [
        "# *****\n",
        "# _***_\n",
        "# __*__\n",
        "\n",
        "i = 0\n",
        "layer = 10\n",
        "left = \" \"\n",
        "middle =\"x\"\n",
        "right = \" \"\n",
        "\n",
        "while i < layer:\n",
        "  lcount = i\n",
        "  rcount = i\n",
        "  mcount = 2 * layer - 1 - 2 * i\n",
        "  print(left * lcount + middle * mcount + right * rcount)\n",
        "  i = i + 1"
      ],
      "metadata": {
        "colab": {
          "base_uri": "https://localhost:8080/"
        },
        "id": "ZhgLUDuYmJ1L",
        "outputId": "20b72aee-82e8-4385-865d-7900dcd00e27"
      },
      "execution_count": 54,
      "outputs": [
        {
          "output_type": "stream",
          "name": "stdout",
          "text": [
            "xxxxxxxxxxxxxxxxxxx\n",
            " xxxxxxxxxxxxxxxxx \n",
            "  xxxxxxxxxxxxxxx  \n",
            "   xxxxxxxxxxxxx   \n",
            "    xxxxxxxxxxx    \n",
            "     xxxxxxxxx     \n",
            "      xxxxxxx      \n",
            "       xxxxx       \n",
            "        xxx        \n",
            "         x         \n"
          ]
        }
      ]
    },
    {
      "cell_type": "code",
      "source": [
        "i = 0\n",
        "total = 0\n",
        "while i < 10:\n",
        "  total = total + (i + 1)\n",
        "  print(total)\n",
        "  i = i+1"
      ],
      "metadata": {
        "colab": {
          "base_uri": "https://localhost:8080/"
        },
        "id": "Ha8VgvWn1tWF",
        "outputId": "e7d602ca-4b13-475f-ea14-b87740816f10"
      },
      "execution_count": 58,
      "outputs": [
        {
          "output_type": "stream",
          "name": "stdout",
          "text": [
            "1\n",
            "3\n",
            "6\n",
            "10\n",
            "15\n",
            "21\n",
            "28\n",
            "36\n",
            "45\n",
            "55\n"
          ]
        }
      ]
    },
    {
      "cell_type": "code",
      "source": [
        "a, b = 2, 7\n",
        "result = \"0.\"\n",
        "\n",
        "i = 0\n",
        "total = 0\n",
        "while i < 10:\n",
        "  a10 = a * 10\n",
        "  result = result + str(a10 // b)\n",
        "  print (result)\n",
        "  a = a10 % b\n",
        "  i = i + 1"
      ],
      "metadata": {
        "colab": {
          "base_uri": "https://localhost:8080/"
        },
        "id": "RXPH8f4imY3j",
        "outputId": "2de28b11-9648-455c-995a-de4947fd2487"
      },
      "execution_count": 60,
      "outputs": [
        {
          "output_type": "stream",
          "name": "stdout",
          "text": [
            "0.2\n",
            "0.28\n",
            "0.285\n",
            "0.2857\n",
            "0.28571\n",
            "0.285714\n",
            "0.2857142\n",
            "0.28571428\n",
            "0.285714285\n",
            "0.2857142857\n"
          ]
        }
      ]
    },
    {
      "cell_type": "code",
      "source": [
        "#break\n",
        "a, b = 213, 5\n",
        "result = str(a//b)+\".\"\n",
        "a = a % b\n",
        "i = 0\n",
        "total = 0\n",
        "while i < 10:\n",
        "  a10 = a * 10\n",
        "  result = result + str(a10 // b)\n",
        "  print (result)\n",
        "  a = a10 % b\n",
        "  if a == 0:\n",
        "    break\n",
        "  i = i + 1"
      ],
      "metadata": {
        "colab": {
          "base_uri": "https://localhost:8080/"
        },
        "id": "beamUETN87pZ",
        "outputId": "95ffd2d5-db81-46b1-aba3-5d91379630ee"
      },
      "execution_count": 63,
      "outputs": [
        {
          "output_type": "stream",
          "name": "stdout",
          "text": [
            "42.6\n"
          ]
        }
      ]
    },
    {
      "cell_type": "code",
      "source": [],
      "metadata": {
        "id": "1jwAvVWj88i4"
      },
      "execution_count": null,
      "outputs": []
    }
  ]
}