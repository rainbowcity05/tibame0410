{
  "nbformat": 4,
  "nbformat_minor": 0,
  "metadata": {
    "colab": {
      "provenance": [],
      "authorship_tag": "ABX9TyNpv2FH+0TVvkf1gj3YSd/y",
      "include_colab_link": true
    },
    "kernelspec": {
      "name": "python3",
      "display_name": "Python 3"
    },
    "language_info": {
      "name": "python"
    }
  },
  "cells": [
    {
      "cell_type": "markdown",
      "metadata": {
        "id": "view-in-github",
        "colab_type": "text"
      },
      "source": [
        "<a href=\"https://colab.research.google.com/github/rainbowcity05/tibame0410/blob/main/tibami0411.ipynb\" target=\"_parent\"><img src=\"https://colab.research.google.com/assets/colab-badge.svg\" alt=\"Open In Colab\"/></a>"
      ]
    },
    {
      "cell_type": "code",
      "execution_count": 3,
      "metadata": {
        "colab": {
          "base_uri": "https://localhost:8080/"
        },
        "id": "MGvm6RfWZfMI",
        "outputId": "763c729d-7c30-4d7c-ce66-4b731a1ab222"
      },
      "outputs": [
        {
          "output_type": "stream",
          "name": "stdout",
          "text": [
            "hello\n",
            "hello\n",
            "hello\n",
            "hello\n",
            "hello\n",
            "hello\n",
            "hello\n",
            "hello\n",
            "hello\n",
            "hello\n"
          ]
        }
      ],
      "source": [
        "#屬次數型迴圈\n",
        "#從0數到9，就數10次\n",
        "i = 0\n",
        "while i < 10:\n",
        "  print(\"hello\")\n",
        "  i = i + 1\n",
        "#養成好習慣，這三條絕對不動: 次數就在小於後面;i=0到次數減1\n"
      ]
    },
    {
      "cell_type": "code",
      "source": [
        "#10數到0\n",
        "\n",
        "i = 0\n",
        "while i < 10:\n",
        "  print(i)\n",
        "  i = i + 1"
      ],
      "metadata": {
        "colab": {
          "base_uri": "https://localhost:8080/"
        },
        "id": "N6w0_v3FcHTc",
        "outputId": "d417a5c6-e8e8-4fdf-b640-79d935f53c1b"
      },
      "execution_count": 5,
      "outputs": [
        {
          "output_type": "stream",
          "name": "stdout",
          "text": [
            "0\n",
            "1\n",
            "2\n",
            "3\n",
            "4\n",
            "5\n",
            "6\n",
            "7\n",
            "8\n",
            "9\n"
          ]
        }
      ]
    },
    {
      "cell_type": "markdown",
      "source": [
        "不要處理難問題，如果問題太難，就把它簡化到自己可以處理的範疇\n",
        "把思考固定，再去套不同問題\n",
        "5, 12, 19...地1000個數字是什麼 > 7i+5...7*1000+5"
      ],
      "metadata": {
        "id": "wMpIemWLfxyN"
      }
    },
    {
      "cell_type": "code",
      "source": [
        "i = 0\n",
        "while i < 10:\n",
        "  print(\"o\" * (i+1))\n",
        "  i = i+1\n",
        "\n"
      ],
      "metadata": {
        "colab": {
          "base_uri": "https://localhost:8080/"
        },
        "id": "c1_mqXrUf4c7",
        "outputId": "f34a2628-b243-49f6-c175-897334717b29"
      },
      "execution_count": 10,
      "outputs": [
        {
          "output_type": "stream",
          "name": "stdout",
          "text": [
            "o\n",
            "oo\n",
            "ooo\n",
            "oooo\n",
            "ooooo\n",
            "oooooo\n",
            "ooooooo\n",
            "oooooooo\n",
            "ooooooooo\n",
            "oooooooooo\n"
          ]
        }
      ]
    },
    {
      "cell_type": "code",
      "source": [
        "i = 0\n",
        "layer = 10\n",
        "left, right = \" \", \"x\"\n",
        "\n",
        "while i < layer:\n",
        "  lcount = i\n",
        "  rcount = layer - i\n",
        "  print(left * lcount + right * rcount)\n",
        "  i = i + 1"
      ],
      "metadata": {
        "colab": {
          "base_uri": "https://localhost:8080/"
        },
        "id": "FK49X1nLiOYV",
        "outputId": "b4770303-a53a-4647-9820-dc2ffd7ebedc"
      },
      "execution_count": 17,
      "outputs": [
        {
          "output_type": "stream",
          "name": "stdout",
          "text": [
            "xxxxxxxxxx\n",
            " xxxxxxxxx\n",
            "  xxxxxxxx\n",
            "   xxxxxxx\n",
            "    xxxxxx\n",
            "     xxxxx\n",
            "      xxxx\n",
            "       xxx\n",
            "        xx\n",
            "         x\n"
          ]
        }
      ]
    },
    {
      "cell_type": "code",
      "source": [
        "# ___o\n",
        "# __xx\n",
        "# _ooo\n",
        "# xxxx\n",
        "#判斷基數偶數 %2\n",
        "\n",
        "i = 0\n",
        "layer = 10\n",
        "left = \" \"\n",
        "even_right = \"x\"\n",
        "right = \"o\"\n",
        "\n",
        "\n",
        "while i < layer:\n",
        "  lcount = layer - i - 1\n",
        "  rcount = i + 1\n",
        "  if i % 2 == 0:\n",
        "    print(left * lcount + even_right * rcount)\n",
        "  else:\n",
        "    print(left * lcount + right * rcount)\n",
        "  i = i + 1"
      ],
      "metadata": {
        "colab": {
          "base_uri": "https://localhost:8080/"
        },
        "id": "grnHWWYBlr0k",
        "outputId": "166bf6df-e4b9-4ea1-ac37-1deb9251ccb6"
      },
      "execution_count": 67,
      "outputs": [
        {
          "output_type": "stream",
          "name": "stdout",
          "text": [
            "         x\n",
            "        oo\n",
            "       xxx\n",
            "      oooo\n",
            "     xxxxx\n",
            "    oooooo\n",
            "   xxxxxxx\n",
            "  oooooooo\n",
            " xxxxxxxxx\n",
            "oooooooooo\n"
          ]
        }
      ]
    },
    {
      "cell_type": "code",
      "source": [
        "# Optional\n",
        "# 四個符號，輪流用\n",
        "\n",
        "i = 0\n",
        "layer = 10\n",
        "# left = \" \"\n",
        "# right = \"o\"\n",
        "# e_right = \"x\"\n",
        "# t_right = \"*\"\n",
        "# f_right = \"+\"\n",
        "ls = [\"$\",\"*\",\"x\",\"%\"]\n",
        "rs = [\" \"]\n",
        "while i < layer:\n",
        "  left, right = \" \", ls[i%len(ls)]\n",
        "  lcount = i\n",
        "  rcount = layer - i\n",
        "  print(left * lcount + right * rcount)\n",
        "  i = i + 1"
      ],
      "metadata": {
        "colab": {
          "base_uri": "https://localhost:8080/"
        },
        "id": "tvDsS0Wxl1P9",
        "outputId": "87060aba-5520-400b-b614-adc9244c6822"
      },
      "execution_count": 66,
      "outputs": [
        {
          "output_type": "stream",
          "name": "stdout",
          "text": [
            "$$$$$$$$$$\n",
            " *********\n",
            "  xxxxxxxx\n",
            "   %%%%%%%\n",
            "    $$$$$$\n",
            "     *****\n",
            "      xxxx\n",
            "       %%%\n",
            "        $$\n",
            "         *\n"
          ]
        }
      ]
    },
    {
      "cell_type": "code",
      "source": [
        "# *****\n",
        "# _***_\n",
        "# __*__\n",
        "\n",
        "i = 0\n",
        "layer = 10\n",
        "left = \" \"\n",
        "middle =\"x\"\n",
        "right = \" \"\n",
        "\n",
        "while i < layer:\n",
        "  lcount = i\n",
        "  rcount = i\n",
        "  mcount = 2 * layer - 1 - 2 * i\n",
        "  print(left * lcount + middle * mcount + right * rcount)\n",
        "  i = i + 1"
      ],
      "metadata": {
        "colab": {
          "base_uri": "https://localhost:8080/"
        },
        "id": "ZhgLUDuYmJ1L",
        "outputId": "20b72aee-82e8-4385-865d-7900dcd00e27"
      },
      "execution_count": 54,
      "outputs": [
        {
          "output_type": "stream",
          "name": "stdout",
          "text": [
            "xxxxxxxxxxxxxxxxxxx\n",
            " xxxxxxxxxxxxxxxxx \n",
            "  xxxxxxxxxxxxxxx  \n",
            "   xxxxxxxxxxxxx   \n",
            "    xxxxxxxxxxx    \n",
            "     xxxxxxxxx     \n",
            "      xxxxxxx      \n",
            "       xxxxx       \n",
            "        xxx        \n",
            "         x         \n"
          ]
        }
      ]
    },
    {
      "cell_type": "code",
      "source": [
        "i = 0\n",
        "total = 0\n",
        "while i < 10:\n",
        "  total = total + (i + 1)\n",
        "  print(total)\n",
        "  i = i+1"
      ],
      "metadata": {
        "colab": {
          "base_uri": "https://localhost:8080/"
        },
        "id": "Ha8VgvWn1tWF",
        "outputId": "e7d602ca-4b13-475f-ea14-b87740816f10"
      },
      "execution_count": 58,
      "outputs": [
        {
          "output_type": "stream",
          "name": "stdout",
          "text": [
            "1\n",
            "3\n",
            "6\n",
            "10\n",
            "15\n",
            "21\n",
            "28\n",
            "36\n",
            "45\n",
            "55\n"
          ]
        }
      ]
    },
    {
      "cell_type": "code",
      "source": [
        "a, b = 2, 7\n",
        "result = \"0.\"\n",
        "\n",
        "i = 0\n",
        "total = 0\n",
        "while i < 10:\n",
        "  a10 = a * 10\n",
        "  result = result + str(a10 // b)\n",
        "  print (result)\n",
        "  a = a10 % b\n",
        "  i = i + 1"
      ],
      "metadata": {
        "colab": {
          "base_uri": "https://localhost:8080/"
        },
        "id": "RXPH8f4imY3j",
        "outputId": "2de28b11-9648-455c-995a-de4947fd2487"
      },
      "execution_count": 60,
      "outputs": [
        {
          "output_type": "stream",
          "name": "stdout",
          "text": [
            "0.2\n",
            "0.28\n",
            "0.285\n",
            "0.2857\n",
            "0.28571\n",
            "0.285714\n",
            "0.2857142\n",
            "0.28571428\n",
            "0.285714285\n",
            "0.2857142857\n"
          ]
        }
      ]
    },
    {
      "cell_type": "code",
      "source": [
        "#break\n",
        "a, b = 213, 5\n",
        "result = str(a//b)+\".\"\n",
        "a = a % b\n",
        "i = 0\n",
        "total = 0\n",
        "while i < 10:\n",
        "  a10 = a * 10\n",
        "  result = result + str(a10 // b)\n",
        "  print (result)\n",
        "  a = a10 % b\n",
        "  if a == 0:\n",
        "    break\n",
        "  i = i + 1"
      ],
      "metadata": {
        "colab": {
          "base_uri": "https://localhost:8080/"
        },
        "id": "beamUETN87pZ",
        "outputId": "95ffd2d5-db81-46b1-aba3-5d91379630ee"
      },
      "execution_count": 63,
      "outputs": [
        {
          "output_type": "stream",
          "name": "stdout",
          "text": [
            "42.6\n"
          ]
        }
      ]
    },
    {
      "cell_type": "code",
      "source": [
        "import random\n",
        "count0, count1 = 0, 0\n",
        "i = 0\n",
        "total = 100\n",
        "while i < total:\n",
        "  t = random.randint(0,1)\n",
        "  if t == 0:\n",
        "    count0 = count0 + 1\n",
        "  elif t == 1:\n",
        "    count1 = count1 + 1\n",
        "  i = i + 1\n",
        "print (count0,count1)"
      ],
      "metadata": {
        "colab": {
          "base_uri": "https://localhost:8080/"
        },
        "id": "1jwAvVWj88i4",
        "outputId": "950e40f1-fe27-49a3-b838-006af9f9ef02"
      },
      "execution_count": 93,
      "outputs": [
        {
          "output_type": "stream",
          "name": "stdout",
          "text": [
            "56 44\n"
          ]
        }
      ]
    },
    {
      "cell_type": "code",
      "source": [
        "#random.randint (0,9)\n",
        "#設定一個10個0的清單，上面記錄第幾個數字出現的次數\n",
        "\n",
        "import random\n",
        "count0, count1 = 0, 0\n",
        "i = 0\n",
        "total = 10\n",
        "counts = [0]*10\n",
        "\n",
        "while i < total:\n",
        "  t = random.randint (0,9)\n",
        "  counts[t] = counts[t] + 1\n",
        "  print(t,counts)\n",
        "  i = i + 1\n",
        "print (count0,count1)"
      ],
      "metadata": {
        "colab": {
          "base_uri": "https://localhost:8080/"
        },
        "id": "KLO_R-ePXopy",
        "outputId": "f09eb591-5c28-4a4a-ef88-2ff198e30fd5"
      },
      "execution_count": 98,
      "outputs": [
        {
          "output_type": "stream",
          "name": "stdout",
          "text": [
            "5 [0, 0, 0, 0, 0, 1, 0, 0, 0, 0]\n",
            "4 [0, 0, 0, 0, 1, 1, 0, 0, 0, 0]\n",
            "6 [0, 0, 0, 0, 1, 1, 1, 0, 0, 0]\n",
            "1 [0, 1, 0, 0, 1, 1, 1, 0, 0, 0]\n",
            "2 [0, 1, 1, 0, 1, 1, 1, 0, 0, 0]\n",
            "4 [0, 1, 1, 0, 2, 1, 1, 0, 0, 0]\n",
            "7 [0, 1, 1, 0, 2, 1, 1, 1, 0, 0]\n",
            "4 [0, 1, 1, 0, 3, 1, 1, 1, 0, 0]\n",
            "9 [0, 1, 1, 0, 3, 1, 1, 1, 0, 1]\n",
            "6 [0, 1, 1, 0, 3, 1, 2, 1, 0, 1]\n",
            "0 0\n"
          ]
        }
      ]
    },
    {
      "cell_type": "code",
      "source": [
        "\n",
        "# random.randint(0, 9)\n",
        "low, high = 5, 7\n",
        "counts = [0] * (high - low + 1)\n",
        "\n",
        "total = 100\n",
        "i = 0\n",
        "while i < total:\n",
        "    n = random.randint(low, high)\n",
        "    counts[n-low] = counts[n-low] + 1\n",
        "    # print(n, counts)\n",
        "    i = i + 1\n",
        "print(counts)"
      ],
      "metadata": {
        "colab": {
          "base_uri": "https://localhost:8080/"
        },
        "id": "P444DZxngxrd",
        "outputId": "e57163ed-f331-49be-f629-66bb315cd673"
      },
      "execution_count": 100,
      "outputs": [
        {
          "output_type": "stream",
          "name": "stdout",
          "text": [
            "[34, 30, 36]\n"
          ]
        }
      ]
    },
    {
      "cell_type": "code",
      "source": [
        "#計算每個英文字母出現幾次\n",
        "# print(\"編碼:\", ord(\"a\"))\n",
        "# print(\"解碼:\", chr(97))\n",
        "\n",
        "s = \"appleahy\"\n",
        "i = 0\n",
        "counts = [0] * 26\n",
        "\n",
        "while i < len(s):\n",
        "    n = ord(s[i]) - ord(\"a\")\n",
        "    counts[n] = counts[n] + 1\n",
        "    # print(n, counts)\n",
        "    i = i + 1\n",
        "print(counts)\n"
      ],
      "metadata": {
        "colab": {
          "base_uri": "https://localhost:8080/"
        },
        "id": "-sUHTLbwXqDi",
        "outputId": "cb178803-ceba-4dd3-e8d9-d082dc97cbb3"
      },
      "execution_count": 102,
      "outputs": [
        {
          "output_type": "stream",
          "name": "stdout",
          "text": [
            "[2, 0, 0, 0, 1, 0, 0, 1, 0, 0, 0, 1, 0, 0, 0, 2, 0, 0, 0, 0, 0, 0, 0, 0, 1, 0]\n"
          ]
        }
      ]
    },
    {
      "cell_type": "code",
      "source": [
        "# 逼近法\n",
        "# degree = pi / 180 radian\n",
        "import math\n",
        "\n",
        "start = 100000000\n",
        "test = 20\n",
        "i = 0\n",
        "while i < test:\n",
        "    # 正n邊形的面積\n",
        "    n = start + i\n",
        "    degree = 180 / n\n",
        "    radian = math.radians(degree)\n",
        "    # 單一三角形面積\n",
        "    area1 = math.sin(radian) * math.cos(radian)\n",
        "    # 正n邊形面積\n",
        "    area = n * area1\n",
        "    print(\"正\", n, \"邊形的面積:\", area)\n",
        "    i = i + 1\n",
        "\n",
        "\n"
      ],
      "metadata": {
        "colab": {
          "base_uri": "https://localhost:8080/"
        },
        "id": "PZJxU6OyfeiT",
        "outputId": "017ec28a-fb49-44ce-d652-1a1de3db9073"
      },
      "execution_count": 122,
      "outputs": [
        {
          "output_type": "stream",
          "name": "stdout",
          "text": [
            "正 100000000 邊形的面積: 3.141592653589791\n",
            "正 100000001 邊形的面積: 3.1415926535897913\n",
            "正 100000002 邊形的面積: 3.141592653589791\n",
            "正 100000003 邊形的面積: 3.1415926535897913\n",
            "正 100000004 邊形的面積: 3.1415926535897913\n",
            "正 100000005 邊形的面積: 3.141592653589791\n",
            "正 100000006 邊形的面積: 3.1415926535897913\n",
            "正 100000007 邊形的面積: 3.1415926535897913\n",
            "正 100000008 邊形的面積: 3.141592653589791\n",
            "正 100000009 邊形的面積: 3.141592653589791\n",
            "正 100000010 邊形的面積: 3.141592653589791\n",
            "正 100000011 邊形的面積: 3.1415926535897913\n",
            "正 100000012 邊形的面積: 3.141592653589791\n",
            "正 100000013 邊形的面積: 3.141592653589791\n",
            "正 100000014 邊形的面積: 3.141592653589791\n",
            "正 100000015 邊形的面積: 3.141592653589791\n",
            "正 100000016 邊形的面積: 3.1415926535897913\n",
            "正 100000017 邊形的面積: 3.1415926535897913\n",
            "正 100000018 邊形的面積: 3.141592653589791\n",
            "正 100000019 邊形的面積: 3.1415926535897913\n"
          ]
        }
      ]
    },
    {
      "cell_type": "code",
      "source": [
        "#蒙地卡羅法求圓面積\n",
        "# 點若落在圓上: X平方 + Y平方 = 半徑平方\n",
        "# 產生隨機小數: random.uniform (a , b)\n",
        "\n",
        "import random\n",
        "total = 10000\n",
        "count = 0\n",
        "i = 0\n",
        "while i < total:\n",
        "  x = random.uniform(-1, 1) #隨機x (-1, 1)\n",
        "  y = random.uniform(-1, 1) #隨機y (-1, 1)\n",
        "\n",
        "  #確認x, y是否在圓內\n",
        "  # x ^ 2 + y ^ 2 <= 1\n",
        "  if x**2 + y**2 <= 1:\n",
        "    count = count + 1\n",
        "  i = i + 1\n",
        "print (\"在圓內的次數:\",count)\n",
        "\n",
        "# 比例: 園內/全部\n",
        "ratio = count / total\n",
        "print (\"比例:\",ratio)\n",
        "# 最後面積: 4 * 比例\n",
        "area = 4 * ratio\n",
        "print (\"面積:\",area)"
      ],
      "metadata": {
        "colab": {
          "base_uri": "https://localhost:8080/"
        },
        "id": "1s8lGQz5rV6F",
        "outputId": "92776bb8-14c9-42be-c161-a6d1e3a2c369"
      },
      "execution_count": 134,
      "outputs": [
        {
          "output_type": "stream",
          "name": "stdout",
          "text": [
            "在圓內的次數: 7839\n",
            "比例: 0.7839\n",
            "面積: 3.1356\n"
          ]
        }
      ]
    },
    {
      "cell_type": "code",
      "source": [
        "#積分算面積\n",
        "interval = 1000\n",
        "i = 0\n",
        "#1 / interval: 每一個小塊的寬 0.000, 0.001, 0.002, ... 0.999\n",
        "w = 1 / interval\n",
        "area_total = 0\n",
        "\n",
        "while i < interval:\n",
        "\n",
        "  to_origin = i * w\n",
        "  #小長方形的高: 半徑平方 - 小長方形高的平方 ** 0.5\n",
        "  h = (1- to_origin **2) **0.5\n",
        "  #小方形的面積\n",
        "  area_partial = h * w\n",
        "  #把interval個小長方形的面積相加\n",
        "  area_total = area_total + area_partial\n",
        "  i = i + 1\n",
        "print(\"面積:\",area_total * 4)\n"
      ],
      "metadata": {
        "colab": {
          "base_uri": "https://localhost:8080/"
        },
        "id": "lZsyy8Zy2ztg",
        "outputId": "7d5cd625-df64-4f80-97b5-a271e4081894"
      },
      "execution_count": 136,
      "outputs": [
        {
          "output_type": "stream",
          "name": "stdout",
          "text": [
            "面積: 3.143555466911028\n"
          ]
        }
      ]
    }
  ]
}