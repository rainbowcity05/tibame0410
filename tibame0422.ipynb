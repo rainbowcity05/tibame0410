{
  "nbformat": 4,
  "nbformat_minor": 0,
  "metadata": {
    "colab": {
      "provenance": [],
      "authorship_tag": "ABX9TyM4R1ewOU8Ye+WolHXmo8Dq",
      "include_colab_link": true
    },
    "kernelspec": {
      "name": "python3",
      "display_name": "Python 3"
    },
    "language_info": {
      "name": "python"
    }
  },
  "cells": [
    {
      "cell_type": "markdown",
      "metadata": {
        "id": "view-in-github",
        "colab_type": "text"
      },
      "source": [
        "<a href=\"https://colab.research.google.com/github/rainbowcity05/tibame0410/blob/main/tibame0422.ipynb\" target=\"_parent\"><img src=\"https://colab.research.google.com/assets/colab-badge.svg\" alt=\"Open In Colab\"/></a>"
      ]
    },
    {
      "cell_type": "code",
      "execution_count": 25,
      "metadata": {
        "colab": {
          "base_uri": "https://localhost:8080/"
        },
        "id": "jMwAxjjiUTts",
        "outputId": "86dac81b-1d40-4432-f5b1-50c28c1ea43a"
      },
      "outputs": [
        {
          "output_type": "stream",
          "name": "stdout",
          "text": [
            "page:1\n",
            "page:2\n",
            "page:3\n",
            "page:4\n",
            "page:5\n",
            "page:6\n",
            "page:7\n",
            "page:8\n",
            "page:9\n",
            "page:10\n"
          ]
        }
      ],
      "source": [
        "import urllib.request as req\n",
        "import bs4 as bs\n",
        "import pandas as pd\n",
        "table = []\n",
        "\n",
        "for i in range(10):\n",
        "  page = i + 1\n",
        "  print(\"page:{}\".format(page))\n",
        "  url = \"https://tabelog.com/tw/okinawa/rstLst/sweets/{}/?SrtT=rt\".format(page)\n",
        "  resp = req.urlopen(url)\n",
        "  content = resp.read()\n",
        "  html = bs.BeautifulSoup(content)\n",
        "\n",
        "  rs =html.find_all(\"div\",{\"class\":\"list-rst__contents\"})\n",
        "  for r in rs:\n",
        "    name = r.find(\"a\",{\"class\":\"list-rst__rst-name-target\"})\n",
        "    name_text = name.text\n",
        "    area_genre = r.find(\"div\",{\"class\":\"list-rst__area-genre\"})\n",
        "    area_genre_text = area_genre.text.strip()\n",
        "    area_genre_text_split = area_genre_text.split(\" / \")\n",
        "    if len(area_genre_text_split) == 1:\n",
        "      area_text, genre_text = \"\", area_genre_text_split[0],\n",
        "    else:\n",
        "      area_text, genre_text = area_genre_text_split[0], area_genre_text_split[1]\n",
        "    rating = r.find(\"span\",{\"class\":\"c-rating__val\"})\n",
        "    rating_text = rating.text.strip()\n",
        "    dinner, lunch = r.find_all(\"span\",{\"class\":\"c-rating-v3__val\"})\n",
        "\n",
        "    data = {\n",
        "      \"餐廳名稱\" : name_text,\n",
        "      \"評分\" : rating_text,\n",
        "      \"地區\" : area_text,\n",
        "      \"種類\" : genre_text,\n",
        "      \"晚餐價格\" : dinner.text,\n",
        "      \"午餐價格\" : lunch.text\n",
        "    }\n",
        "    table.append(data)\n",
        "\n",
        "df = pd.DataFrame(table)\n",
        "df.to_csv(\"tabelog.csv\",encoding=\"utf-8\",index=False)\n",
        "\n",
        "\n",
        "    # print(name_text)\n",
        "    # print(rating_text)\n",
        "    # print(area_text)\n",
        "    # print(genre_text)\n",
        "    # print(dinner.text)\n",
        "    # print(lunch.text)\n",
        "    # print(\"-\"*20)\n",
        ""
      ]
    }
  ]
}