{
  "nbformat": 4,
  "nbformat_minor": 0,
  "metadata": {
    "colab": {
      "provenance": [],
      "authorship_tag": "ABX9TyNCngP+Kgm00FsNej7FSrj7",
      "include_colab_link": true
    },
    "kernelspec": {
      "name": "python3",
      "display_name": "Python 3"
    },
    "language_info": {
      "name": "python"
    }
  },
  "cells": [
    {
      "cell_type": "markdown",
      "metadata": {
        "id": "view-in-github",
        "colab_type": "text"
      },
      "source": [
        "<a href=\"https://colab.research.google.com/github/rainbowcity05/tibame0410/blob/main/tibame0424.ipynb\" target=\"_parent\"><img src=\"https://colab.research.google.com/assets/colab-badge.svg\" alt=\"Open In Colab\"/></a>"
      ]
    },
    {
      "cell_type": "code",
      "execution_count": 12,
      "metadata": {
        "id": "E0ZGiPi0YNcZ"
      },
      "outputs": [],
      "source": [
        "import urllib.request as req\n",
        "import bs4 as bs\n",
        "import json\n",
        "\n",
        "url = \"https://www.ptt.cc/bbs/Beauty/M.1745404681.A.366.html\"\n",
        "r = req.Request(url)\n",
        "r.add_header(\"User-Agent\", \"Mozilla/5.0 (Windows NT 10.0; Win64; x64) AppleWebKit/537.36 (KHTML, like Gecko) Chrome/10\")\n",
        "resp = req.urlopen(r)\n",
        "html = bs.BeautifulSoup(resp.read())\n",
        "\n",
        "#超連結list\n",
        "links_list = html.find_all(\"a\") #抓出所有超連結\n",
        "allow_subs = [\"jpg\",\"jpeg\",\"png\",\"gif\"] #允許超連結檔案的格式\n",
        "for link in links_list: #檢查抓出的超連結中符合自己建立規則的\n",
        "  link_href = link[\"href\"]\n",
        "  sub = (link_href.split(\".\")[-1])\n",
        "  if sub.lower() in allow_subs: #將字串轉成小寫，避免有大寫\n",
        "    img_url = link_href #若符合規則就抓出他的超連結\n",
        "    fn = img_url.split(\"/\")[-1] #用url最後一段當檔名\n",
        "\n",
        "    #save img\n",
        "    url = \"img_url\"\n",
        "    r = req.Request(img_url)\n",
        "    r.add_header(\"User-Agent\", \"Mozilla/5.0 (Windows NT 10.0; Win64; x64) AppleWebKit/537.36 (KHTML, like Gecko) Chrome/10\")\n",
        "    img = req.urlopen(r)\n",
        "    with open(fn,\"wb\") as f:\n",
        "      f.write(img.read())"
      ]
    },
    {
      "cell_type": "code",
      "source": [
        "import os\n",
        "#用程式開啟資料夾\n",
        "dn = \"test/test2\"\n",
        "# r\"字串\" 抓取最原始的字串，不受/n特殊字串影響\n",
        "fn = dn + \"/a.text\"\n",
        "#如果資料夾不存在，我們就創造一個資料夾\n",
        "if not os.path.exists(dn):\n",
        "  os.makedirs(dn)\n",
        "with open(fn, \"w\", encoding=\"utf-8\") as f:\n",
        "    f.write(\"adsfasdf\")\n"
      ],
      "metadata": {
        "id": "DmFT4_QulCei"
      },
      "execution_count": 1,
      "outputs": []
    },
    {
      "cell_type": "code",
      "source": [
        "from google.colab import drive\n",
        "drive.mount('/content/drive')"
      ],
      "metadata": {
        "id": "Y7m-EH7MnxL8"
      },
      "execution_count": null,
      "outputs": []
    }
  ]
}