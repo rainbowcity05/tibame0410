{
  "nbformat": 4,
  "nbformat_minor": 0,
  "metadata": {
    "colab": {
      "provenance": [],
      "authorship_tag": "ABX9TyM8P+4PW4ptPT1ege8EBOTT",
      "include_colab_link": true
    },
    "kernelspec": {
      "name": "python3",
      "display_name": "Python 3"
    },
    "language_info": {
      "name": "python"
    }
  },
  "cells": [
    {
      "cell_type": "markdown",
      "metadata": {
        "id": "view-in-github",
        "colab_type": "text"
      },
      "source": [
        "<a href=\"https://colab.research.google.com/github/rainbowcity05/tibame0410/blob/main/Tibame0410.ipynb\" target=\"_parent\"><img src=\"https://colab.research.google.com/assets/colab-badge.svg\" alt=\"Open In Colab\"/></a>"
      ]
    },
    {
      "cell_type": "code",
      "execution_count": 24,
      "metadata": {
        "id": "CsnjwxSdU2ck",
        "colab": {
          "base_uri": "https://localhost:8080/"
        },
        "outputId": "d993b7da-f2c7-4780-c8db-bff9f46dd393"
      },
      "outputs": [
        {
          "output_type": "stream",
          "name": "stdout",
          "text": [
            "輸入你今天吃的蛋白質份量4.5\n",
            "輸入你今天吃的脂肪份量2.2\n",
            "輸入你今天吃的碳水化合物份量3.1\n",
            "我今天吃了 4.5 份蛋白質\n",
            "我今天吃了 2.2 份脂肪\n",
            "我今天吃了 3.1 份碳水化合物\n",
            "我今天吃的總卡路里:50.199999999999996\n",
            "今天所需的卡路里還不夠\n"
          ]
        }
      ],
      "source": [
        "#calorie = protein * 4 + fat * 9 + carbon * 4\n",
        "p = float(input(\"輸入你今天吃的蛋白質份量\"))\n",
        "f = float(input(\"輸入你今天吃的脂肪份量\"))\n",
        "c = float(input(\"輸入你今天吃的碳水化合物份量\"))\n",
        "calorie = p * 4 + f * 9 + c * 4\n",
        "\n",
        "print(\"我今天吃了\",p,\"份蛋白質\")\n",
        "print(\"我今天吃了\",f,\"份脂肪\")\n",
        "print(\"我今天吃了\",c,\"份碳水化合物\")\n",
        "print(\"我今天吃的總卡路里:\"+str(calorie))\n",
        "\n",
        "total_calorie = 200\n",
        "if calorie >=  total_calorie:\n",
        "  print(\"今天所需的卡路里已足夠\")\n",
        "else:\n",
        "  print(\"今天所需的卡路里還不夠\")"
      ]
    },
    {
      "cell_type": "code",
      "source": [
        "#剪刀石頭布\n",
        "import random\n",
        "My = int(input(\"0-蟲,1-雞,2-老虎,3-棒子，請選一個數字:\"))\n",
        "Com = random.randint(0,3)\n",
        "trans = [\"蟲\",\"雞\",\"老虎\",\"棒子\"]\n",
        "print(\"我出的:\",trans[My])\n",
        "print (\"電腦出的:\",trans[Com])\n",
        "\n",
        "# if trans[My-1] == trans[Com]:\n",
        "#   print(\"你贏電腦\")\n",
        "# elif trans[Com-1] == trans[My]:\n",
        "#   print(\"電腦贏你\")\n",
        "# else:\n",
        "#   print(\"平手\")\n",
        "\n",
        "if My == (Com + 1)%4:\n",
        "  print(\"我贏了\")\n",
        "elif Com == (My + 1)%4:\n",
        "  print(\"我輸了\")\n",
        "else:\n",
        "  print(\"平手\")"
      ],
      "metadata": {
        "colab": {
          "base_uri": "https://localhost:8080/"
        },
        "id": "LC3BFFg5N1w0",
        "outputId": "cc52e807-f558-486b-e9e8-8d71b336d69f"
      },
      "execution_count": 45,
      "outputs": [
        {
          "output_type": "stream",
          "name": "stdout",
          "text": [
            "0-蟲,1-雞,2-老虎,3-棒子，請選一個數字:2\n",
            "我出的: 老虎\n",
            "電腦出的: 棒子\n",
            "我輸了\n"
          ]
        }
      ]
    },
    {
      "cell_type": "markdown",
      "source": [],
      "metadata": {
        "id": "_ZfQ41LVg79v"
      }
    },
    {
      "cell_type": "code",
      "source": [
        "#0-1-2;3-4-5;不在同組就是平手\n",
        "import random\n",
        "trans = [\"剪刀0\",\"石頭0\",\"布0\",\n",
        "      \"剪刀1\",\"石頭1\",\"布1\"]\n",
        "my = 5\n",
        "com = 4\n",
        "\n",
        "#先確認同組，if同組則比大小，else平手\n",
        "#0,1,2 > 不變;3,4,5 > 0,1,2\n",
        "if my//3 != com //3:\n",
        "  print (\"不同隊\")\n",
        "else:\n",
        "  if my % 3 == (com + 1) % 3:\n",
        "    print(\"我贏電腦\")\n",
        "  elif com % 3 == (my + 1) % 3:\n",
        "    print(\"電腦贏我\")\n",
        "  else:\n",
        "    print(\"平手\")\n"
      ],
      "metadata": {
        "colab": {
          "base_uri": "https://localhost:8080/"
        },
        "id": "94YtRRYZg9P3",
        "outputId": "5a85afc7-6e63-4eae-fd69-9276918e821e"
      },
      "execution_count": 66,
      "outputs": [
        {
          "output_type": "stream",
          "name": "stdout",
          "text": [
            "我贏電腦\n"
          ]
        }
      ]
    },
    {
      "cell_type": "markdown",
      "source": [],
      "metadata": {
        "id": "g8JslFcKg92N"
      }
    }
  ]
}